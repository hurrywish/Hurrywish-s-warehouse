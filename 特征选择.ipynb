{
 "cells": [
  {
   "cell_type": "code",
   "execution_count": 17,
   "metadata": {},
   "outputs": [],
   "source": [
    "import numpy as np\n",
    "import pandas as pd\n",
    "from scipy import stats\n",
    "from sklearn.tree import DecisionTreeRegressor\n",
    "from sklearn.feature_selection import SelectKBest,RFE,SelectFromModel\n",
    "from sklearn.svm import SVR"
   ]
  },
  {
   "cell_type": "code",
   "execution_count": 12,
   "metadata": {},
   "outputs": [],
   "source": [
    "data=pd.DataFrame({'A':stats.norm.rvs(size=10),'B':stats.norm.rvs(size=10),'C':stats.norm.rvs(size=10),'D':np.random.randint(0,2,10)})"
   ]
  },
  {
   "cell_type": "code",
   "execution_count": 13,
   "metadata": {},
   "outputs": [
    {
     "data": {
      "text/html": [
       "<div>\n",
       "<style scoped>\n",
       "    .dataframe tbody tr th:only-of-type {\n",
       "        vertical-align: middle;\n",
       "    }\n",
       "\n",
       "    .dataframe tbody tr th {\n",
       "        vertical-align: top;\n",
       "    }\n",
       "\n",
       "    .dataframe thead th {\n",
       "        text-align: right;\n",
       "    }\n",
       "</style>\n",
       "<table border=\"1\" class=\"dataframe\">\n",
       "  <thead>\n",
       "    <tr style=\"text-align: right;\">\n",
       "      <th></th>\n",
       "      <th>A</th>\n",
       "      <th>B</th>\n",
       "      <th>C</th>\n",
       "      <th>D</th>\n",
       "    </tr>\n",
       "  </thead>\n",
       "  <tbody>\n",
       "    <tr>\n",
       "      <th>0</th>\n",
       "      <td>0.550925</td>\n",
       "      <td>0.328911</td>\n",
       "      <td>-0.236755</td>\n",
       "      <td>0</td>\n",
       "    </tr>\n",
       "    <tr>\n",
       "      <th>1</th>\n",
       "      <td>1.812289</td>\n",
       "      <td>0.492305</td>\n",
       "      <td>-1.890470</td>\n",
       "      <td>0</td>\n",
       "    </tr>\n",
       "    <tr>\n",
       "      <th>2</th>\n",
       "      <td>0.673952</td>\n",
       "      <td>-0.027319</td>\n",
       "      <td>0.218152</td>\n",
       "      <td>0</td>\n",
       "    </tr>\n",
       "    <tr>\n",
       "      <th>3</th>\n",
       "      <td>0.238329</td>\n",
       "      <td>-1.098172</td>\n",
       "      <td>2.101356</td>\n",
       "      <td>1</td>\n",
       "    </tr>\n",
       "    <tr>\n",
       "      <th>4</th>\n",
       "      <td>0.889976</td>\n",
       "      <td>-0.222266</td>\n",
       "      <td>-0.778928</td>\n",
       "      <td>1</td>\n",
       "    </tr>\n",
       "    <tr>\n",
       "      <th>5</th>\n",
       "      <td>0.343031</td>\n",
       "      <td>0.368183</td>\n",
       "      <td>-0.548536</td>\n",
       "      <td>1</td>\n",
       "    </tr>\n",
       "    <tr>\n",
       "      <th>6</th>\n",
       "      <td>0.590563</td>\n",
       "      <td>-1.127773</td>\n",
       "      <td>2.403875</td>\n",
       "      <td>1</td>\n",
       "    </tr>\n",
       "    <tr>\n",
       "      <th>7</th>\n",
       "      <td>-1.066955</td>\n",
       "      <td>0.975949</td>\n",
       "      <td>0.642373</td>\n",
       "      <td>1</td>\n",
       "    </tr>\n",
       "    <tr>\n",
       "      <th>8</th>\n",
       "      <td>-0.310151</td>\n",
       "      <td>-1.383852</td>\n",
       "      <td>-2.333076</td>\n",
       "      <td>1</td>\n",
       "    </tr>\n",
       "    <tr>\n",
       "      <th>9</th>\n",
       "      <td>1.783430</td>\n",
       "      <td>0.806869</td>\n",
       "      <td>1.449443</td>\n",
       "      <td>1</td>\n",
       "    </tr>\n",
       "  </tbody>\n",
       "</table>\n",
       "</div>"
      ],
      "text/plain": [
       "          A         B         C  D\n",
       "0  0.550925  0.328911 -0.236755  0\n",
       "1  1.812289  0.492305 -1.890470  0\n",
       "2  0.673952 -0.027319  0.218152  0\n",
       "3  0.238329 -1.098172  2.101356  1\n",
       "4  0.889976 -0.222266 -0.778928  1\n",
       "5  0.343031  0.368183 -0.548536  1\n",
       "6  0.590563 -1.127773  2.403875  1\n",
       "7 -1.066955  0.975949  0.642373  1\n",
       "8 -0.310151 -1.383852 -2.333076  1\n",
       "9  1.783430  0.806869  1.449443  1"
      ]
     },
     "execution_count": 13,
     "metadata": {},
     "output_type": "execute_result"
    }
   ],
   "source": [
    "data"
   ]
  },
  {
   "cell_type": "code",
   "execution_count": 14,
   "metadata": {},
   "outputs": [],
   "source": [
    "X=data[['A','B','C']]\n",
    "Y=data['D']"
   ]
  },
  {
   "cell_type": "code",
   "execution_count": 15,
   "metadata": {},
   "outputs": [
    {
     "data": {
      "text/plain": [
       "array([[ 0.55092516, -0.23675538],\n",
       "       [ 1.81228859, -1.89046967],\n",
       "       [ 0.67395212,  0.21815247],\n",
       "       [ 0.23832903,  2.10135575],\n",
       "       [ 0.88997635, -0.77892821],\n",
       "       [ 0.34303105, -0.54853563],\n",
       "       [ 0.59056275,  2.40387452],\n",
       "       [-1.06695482,  0.64237307],\n",
       "       [-0.31015091, -2.33307598],\n",
       "       [ 1.78343039,  1.44944331]])"
      ]
     },
     "execution_count": 15,
     "metadata": {},
     "output_type": "execute_result"
    }
   ],
   "source": [
    "skb=SelectKBest(k=2)\n",
    "skb.fit(X,Y)\n",
    "skb.transform(X)"
   ]
  },
  {
   "cell_type": "code",
   "execution_count": 19,
   "metadata": {},
   "outputs": [
    {
     "data": {
      "text/plain": [
       "array([[ 0.55092516,  0.3289113 ],\n",
       "       [ 1.81228859,  0.49230474],\n",
       "       [ 0.67395212, -0.02731947],\n",
       "       [ 0.23832903, -1.09817229],\n",
       "       [ 0.88997635, -0.2222664 ],\n",
       "       [ 0.34303105,  0.36818345],\n",
       "       [ 0.59056275, -1.12777262],\n",
       "       [-1.06695482,  0.97594874],\n",
       "       [-0.31015091, -1.38385173],\n",
       "       [ 1.78343039,  0.80686946]])"
      ]
     },
     "execution_count": 19,
     "metadata": {},
     "output_type": "execute_result"
    }
   ],
   "source": [
    "rfe=RFE(estimator=SVR(kernel='linear'),n_features_to_select=2,step=1)\n",
    "rfe.fit_transform(X,Y)"
   ]
  },
  {
   "cell_type": "code",
   "execution_count": 23,
   "metadata": {},
   "outputs": [
    {
     "data": {
      "text/plain": [
       "array([[-0.23675538],\n",
       "       [-1.89046967],\n",
       "       [ 0.21815247],\n",
       "       [ 2.10135575],\n",
       "       [-0.77892821],\n",
       "       [-0.54853563],\n",
       "       [ 2.40387452],\n",
       "       [ 0.64237307],\n",
       "       [-2.33307598],\n",
       "       [ 1.44944331]])"
      ]
     },
     "execution_count": 23,
     "metadata": {},
     "output_type": "execute_result"
    }
   ],
   "source": [
    "sfm=SelectFromModel(estimator=DecisionTreeRegressor(),threshold=0.5)\n",
    "sfm.fit_transform(X,Y)"
   ]
  },
  {
   "cell_type": "code",
   "execution_count": null,
   "metadata": {},
   "outputs": [],
   "source": []
  },
  {
   "cell_type": "code",
   "execution_count": null,
   "metadata": {},
   "outputs": [],
   "source": []
  },
  {
   "cell_type": "code",
   "execution_count": null,
   "metadata": {},
   "outputs": [],
   "source": []
  }
 ],
 "metadata": {
  "kernelspec": {
   "display_name": "Python 3",
   "language": "python",
   "name": "python3"
  },
  "language_info": {
   "codemirror_mode": {
    "name": "ipython",
    "version": 3
   },
   "file_extension": ".py",
   "mimetype": "text/x-python",
   "name": "python",
   "nbconvert_exporter": "python",
   "pygments_lexer": "ipython3",
   "version": "3.7.6"
  }
 },
 "nbformat": 4,
 "nbformat_minor": 4
}
