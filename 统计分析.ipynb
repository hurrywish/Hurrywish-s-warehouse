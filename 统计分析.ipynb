{
 "cells": [
  {
   "cell_type": "code",
   "execution_count": 2,
   "metadata": {},
   "outputs": [],
   "source": [
    "import numpy as np\n",
    "import pandas as pd\n",
    "import matplotlib.pyplot as plt\n",
    "%matplotlib inline"
   ]
  },
  {
   "cell_type": "code",
   "execution_count": 39,
   "metadata": {},
   "outputs": [],
   "source": [
    "data=pd.DataFrame({'value':np.random.randint(100,120,100),\n",
    "                   'f':np.random.rand(100)})"
   ]
  },
  {
   "cell_type": "code",
   "execution_count": 40,
   "metadata": {},
   "outputs": [
    {
     "data": {
      "text/html": [
       "<div>\n",
       "<style scoped>\n",
       "    .dataframe tbody tr th:only-of-type {\n",
       "        vertical-align: middle;\n",
       "    }\n",
       "\n",
       "    .dataframe tbody tr th {\n",
       "        vertical-align: top;\n",
       "    }\n",
       "\n",
       "    .dataframe thead th {\n",
       "        text-align: right;\n",
       "    }\n",
       "</style>\n",
       "<table border=\"1\" class=\"dataframe\">\n",
       "  <thead>\n",
       "    <tr style=\"text-align: right;\">\n",
       "      <th></th>\n",
       "      <th>value</th>\n",
       "      <th>f</th>\n",
       "    </tr>\n",
       "  </thead>\n",
       "  <tbody>\n",
       "    <tr>\n",
       "      <th>0</th>\n",
       "      <td>102</td>\n",
       "      <td>0.557532</td>\n",
       "    </tr>\n",
       "    <tr>\n",
       "      <th>1</th>\n",
       "      <td>110</td>\n",
       "      <td>0.018343</td>\n",
       "    </tr>\n",
       "    <tr>\n",
       "      <th>2</th>\n",
       "      <td>103</td>\n",
       "      <td>0.782447</td>\n",
       "    </tr>\n",
       "    <tr>\n",
       "      <th>3</th>\n",
       "      <td>108</td>\n",
       "      <td>0.644360</td>\n",
       "    </tr>\n",
       "    <tr>\n",
       "      <th>4</th>\n",
       "      <td>105</td>\n",
       "      <td>0.704223</td>\n",
       "    </tr>\n",
       "    <tr>\n",
       "      <th>...</th>\n",
       "      <td>...</td>\n",
       "      <td>...</td>\n",
       "    </tr>\n",
       "    <tr>\n",
       "      <th>95</th>\n",
       "      <td>118</td>\n",
       "      <td>0.848543</td>\n",
       "    </tr>\n",
       "    <tr>\n",
       "      <th>96</th>\n",
       "      <td>103</td>\n",
       "      <td>0.127346</td>\n",
       "    </tr>\n",
       "    <tr>\n",
       "      <th>97</th>\n",
       "      <td>101</td>\n",
       "      <td>0.168568</td>\n",
       "    </tr>\n",
       "    <tr>\n",
       "      <th>98</th>\n",
       "      <td>100</td>\n",
       "      <td>0.433835</td>\n",
       "    </tr>\n",
       "    <tr>\n",
       "      <th>99</th>\n",
       "      <td>119</td>\n",
       "      <td>0.680666</td>\n",
       "    </tr>\n",
       "  </tbody>\n",
       "</table>\n",
       "<p>100 rows × 2 columns</p>\n",
       "</div>"
      ],
      "text/plain": [
       "    value         f\n",
       "0     102  0.557532\n",
       "1     110  0.018343\n",
       "2     103  0.782447\n",
       "3     108  0.644360\n",
       "4     105  0.704223\n",
       "..    ...       ...\n",
       "95    118  0.848543\n",
       "96    103  0.127346\n",
       "97    101  0.168568\n",
       "98    100  0.433835\n",
       "99    119  0.680666\n",
       "\n",
       "[100 rows x 2 columns]"
      ]
     },
     "execution_count": 40,
     "metadata": {},
     "output_type": "execute_result"
    }
   ],
   "source": [
    "data"
   ]
  },
  {
   "cell_type": "code",
   "execution_count": 41,
   "metadata": {},
   "outputs": [
    {
     "data": {
      "text/plain": [
       "109.14"
      ]
     },
     "execution_count": 41,
     "metadata": {},
     "output_type": "execute_result"
    }
   ],
   "source": [
    "mean=data['value'].sum()/len(data)\n",
    "mean"
   ]
  },
  {
   "cell_type": "code",
   "execution_count": 42,
   "metadata": {},
   "outputs": [
    {
     "data": {
      "text/plain": [
       "109.14"
      ]
     },
     "execution_count": 42,
     "metadata": {},
     "output_type": "execute_result"
    }
   ],
   "source": [
    "data['value'].mean()"
   ]
  },
  {
   "cell_type": "code",
   "execution_count": 43,
   "metadata": {},
   "outputs": [
    {
     "data": {
      "text/plain": [
       "109.52"
      ]
     },
     "execution_count": 43,
     "metadata": {},
     "output_type": "execute_result"
    }
   ],
   "source": [
    "mean_u=(data['value']*data['f']).sum()/data['f'].sum()\n",
    "mean_u=round(mean_u,2)\n",
    "mean_u"
   ]
  },
  {
   "cell_type": "code",
   "execution_count": 44,
   "metadata": {},
   "outputs": [
    {
     "data": {
      "text/plain": [
       "[102, 115]"
      ]
     },
     "execution_count": 44,
     "metadata": {},
     "output_type": "execute_result"
    }
   ],
   "source": [
    "m=data['value'].mode().tolist()\n",
    "m"
   ]
  },
  {
   "cell_type": "code",
   "execution_count": 45,
   "metadata": {},
   "outputs": [
    {
     "data": {
      "text/plain": [
       "109.0"
      ]
     },
     "execution_count": 45,
     "metadata": {},
     "output_type": "execute_result"
    }
   ],
   "source": [
    "med=data['value'].median()\n",
    "med"
   ]
  },
  {
   "cell_type": "code",
   "execution_count": 50,
   "metadata": {},
   "outputs": [
    {
     "data": {
      "text/plain": [
       "Text(110.14, 0.03, 'med is 109')"
      ]
     },
     "execution_count": 50,
     "metadata": {},
     "output_type": "execute_result"
    },
    {
     "data": {
      "image/png": "[encoded data removed]",
      "text/plain": [
       "<Figure size 720x576 with 1 Axes>"
      ]
     },
     "metadata": {
      "needs_background": "light"
     },
     "output_type": "display_data"
    }
   ],
   "source": [
    "plt.figure(figsize=(10,8))\n",
    "data['value'].plot(kind='kde')\n",
    "plt.axvline(mean,color='green',linewidth=1,ls='--',label='mean')\n",
    "plt.text(mean+1,0.01,'mean is %i'%(mean),color='green')\n",
    "plt.axvline(mean_u,color='blue',linewidth=1,ls='-.',label='mean_u')\n",
    "plt.text(mean+1,0.02,'mean_u is %i'%(mean_u),color='blue')\n",
    "plt.axvline(med,color='red',linewidth=1,ls='-',label='med')\n",
    "plt.text(mean+1,0.03,'med is %i'%(med),color='red')"
   ]
  },
  {
   "cell_type": "code",
   "execution_count": 55,
   "metadata": {},
   "outputs": [],
   "source": [
    "data=pd.DataFrame(np.random.rand(60).reshape(30,2)*1000,columns=['A_sale','B_sale'],index=pd.date_range('2017-10-1',periods=30))"
   ]
  },
  {
   "cell_type": "code",
   "execution_count": 56,
   "metadata": {},
   "outputs": [
    {
     "data": {
      "text/html": [
       "<div>\n",
       "<style scoped>\n",
       "    .dataframe tbody tr th:only-of-type {\n",
       "        vertical-align: middle;\n",
       "    }\n",
       "\n",
       "    .dataframe tbody tr th {\n",
       "        vertical-align: top;\n",
       "    }\n",
       "\n",
       "    .dataframe thead th {\n",
       "        text-align: right;\n",
       "    }\n",
       "</style>\n",
       "<table border=\"1\" class=\"dataframe\">\n",
       "  <thead>\n",
       "    <tr style=\"text-align: right;\">\n",
       "      <th></th>\n",
       "      <th>A_sale</th>\n",
       "      <th>B_sale</th>\n",
       "    </tr>\n",
       "  </thead>\n",
       "  <tbody>\n",
       "    <tr>\n",
       "      <th>2017-10-01</th>\n",
       "      <td>871.521012</td>\n",
       "      <td>573.218729</td>\n",
       "    </tr>\n",
       "    <tr>\n",
       "      <th>2017-10-02</th>\n",
       "      <td>251.581076</td>\n",
       "      <td>279.671434</td>\n",
       "    </tr>\n",
       "    <tr>\n",
       "      <th>2017-10-03</th>\n",
       "      <td>862.363854</td>\n",
       "      <td>430.272828</td>\n",
       "    </tr>\n",
       "    <tr>\n",
       "      <th>2017-10-04</th>\n",
       "      <td>387.062031</td>\n",
       "      <td>220.109189</td>\n",
       "    </tr>\n",
       "    <tr>\n",
       "      <th>2017-10-05</th>\n",
       "      <td>29.489035</td>\n",
       "      <td>932.045557</td>\n",
       "    </tr>\n",
       "    <tr>\n",
       "      <th>2017-10-06</th>\n",
       "      <td>939.883220</td>\n",
       "      <td>679.587317</td>\n",
       "    </tr>\n",
       "    <tr>\n",
       "      <th>2017-10-07</th>\n",
       "      <td>645.545557</td>\n",
       "      <td>792.524254</td>\n",
       "    </tr>\n",
       "    <tr>\n",
       "      <th>2017-10-08</th>\n",
       "      <td>500.956261</td>\n",
       "      <td>375.449313</td>\n",
       "    </tr>\n",
       "    <tr>\n",
       "      <th>2017-10-09</th>\n",
       "      <td>138.545768</td>\n",
       "      <td>728.134582</td>\n",
       "    </tr>\n",
       "    <tr>\n",
       "      <th>2017-10-10</th>\n",
       "      <td>810.977487</td>\n",
       "      <td>521.586489</td>\n",
       "    </tr>\n",
       "    <tr>\n",
       "      <th>2017-10-11</th>\n",
       "      <td>336.776533</td>\n",
       "      <td>27.229170</td>\n",
       "    </tr>\n",
       "    <tr>\n",
       "      <th>2017-10-12</th>\n",
       "      <td>52.584153</td>\n",
       "      <td>563.659327</td>\n",
       "    </tr>\n",
       "    <tr>\n",
       "      <th>2017-10-13</th>\n",
       "      <td>390.227314</td>\n",
       "      <td>969.597464</td>\n",
       "    </tr>\n",
       "    <tr>\n",
       "      <th>2017-10-14</th>\n",
       "      <td>705.785712</td>\n",
       "      <td>747.609925</td>\n",
       "    </tr>\n",
       "    <tr>\n",
       "      <th>2017-10-15</th>\n",
       "      <td>922.516325</td>\n",
       "      <td>381.076491</td>\n",
       "    </tr>\n",
       "    <tr>\n",
       "      <th>2017-10-16</th>\n",
       "      <td>900.361987</td>\n",
       "      <td>232.982085</td>\n",
       "    </tr>\n",
       "    <tr>\n",
       "      <th>2017-10-17</th>\n",
       "      <td>554.474881</td>\n",
       "      <td>663.290463</td>\n",
       "    </tr>\n",
       "    <tr>\n",
       "      <th>2017-10-18</th>\n",
       "      <td>130.252303</td>\n",
       "      <td>367.320403</td>\n",
       "    </tr>\n",
       "    <tr>\n",
       "      <th>2017-10-19</th>\n",
       "      <td>736.262124</td>\n",
       "      <td>330.320129</td>\n",
       "    </tr>\n",
       "    <tr>\n",
       "      <th>2017-10-20</th>\n",
       "      <td>499.766643</td>\n",
       "      <td>401.560976</td>\n",
       "    </tr>\n",
       "    <tr>\n",
       "      <th>2017-10-21</th>\n",
       "      <td>52.905496</td>\n",
       "      <td>218.475794</td>\n",
       "    </tr>\n",
       "    <tr>\n",
       "      <th>2017-10-22</th>\n",
       "      <td>205.421634</td>\n",
       "      <td>387.269931</td>\n",
       "    </tr>\n",
       "    <tr>\n",
       "      <th>2017-10-23</th>\n",
       "      <td>349.330255</td>\n",
       "      <td>956.706095</td>\n",
       "    </tr>\n",
       "    <tr>\n",
       "      <th>2017-10-24</th>\n",
       "      <td>443.196841</td>\n",
       "      <td>924.713233</td>\n",
       "    </tr>\n",
       "    <tr>\n",
       "      <th>2017-10-25</th>\n",
       "      <td>352.834220</td>\n",
       "      <td>954.934671</td>\n",
       "    </tr>\n",
       "    <tr>\n",
       "      <th>2017-10-26</th>\n",
       "      <td>680.263847</td>\n",
       "      <td>916.364016</td>\n",
       "    </tr>\n",
       "    <tr>\n",
       "      <th>2017-10-27</th>\n",
       "      <td>274.942281</td>\n",
       "      <td>984.242789</td>\n",
       "    </tr>\n",
       "    <tr>\n",
       "      <th>2017-10-28</th>\n",
       "      <td>398.203627</td>\n",
       "      <td>20.355593</td>\n",
       "    </tr>\n",
       "    <tr>\n",
       "      <th>2017-10-29</th>\n",
       "      <td>729.196892</td>\n",
       "      <td>166.159315</td>\n",
       "    </tr>\n",
       "    <tr>\n",
       "      <th>2017-10-30</th>\n",
       "      <td>796.670033</td>\n",
       "      <td>985.865610</td>\n",
       "    </tr>\n",
       "  </tbody>\n",
       "</table>\n",
       "</div>"
      ],
      "text/plain": [
       "                A_sale      B_sale\n",
       "2017-10-01  871.521012  573.218729\n",
       "2017-10-02  251.581076  279.671434\n",
       "2017-10-03  862.363854  430.272828\n",
       "2017-10-04  387.062031  220.109189\n",
       "2017-10-05   29.489035  932.045557\n",
       "2017-10-06  939.883220  679.587317\n",
       "2017-10-07  645.545557  792.524254\n",
       "2017-10-08  500.956261  375.449313\n",
       "2017-10-09  138.545768  728.134582\n",
       "2017-10-10  810.977487  521.586489\n",
       "2017-10-11  336.776533   27.229170\n",
       "2017-10-12   52.584153  563.659327\n",
       "2017-10-13  390.227314  969.597464\n",
       "2017-10-14  705.785712  747.609925\n",
       "2017-10-15  922.516325  381.076491\n",
       "2017-10-16  900.361987  232.982085\n",
       "2017-10-17  554.474881  663.290463\n",
       "2017-10-18  130.252303  367.320403\n",
       "2017-10-19  736.262124  330.320129\n",
       "2017-10-20  499.766643  401.560976\n",
       "2017-10-21   52.905496  218.475794\n",
       "2017-10-22  205.421634  387.269931\n",
       "2017-10-23  349.330255  956.706095\n",
       "2017-10-24  443.196841  924.713233\n",
       "2017-10-25  352.834220  954.934671\n",
       "2017-10-26  680.263847  916.364016\n",
       "2017-10-27  274.942281  984.242789\n",
       "2017-10-28  398.203627   20.355593\n",
       "2017-10-29  729.196892  166.159315\n",
       "2017-10-30  796.670033  985.865610"
      ]
     },
     "execution_count": 56,
     "metadata": {},
     "output_type": "execute_result"
    }
   ],
   "source": [
    "data"
   ]
  },
  {
   "cell_type": "code",
   "execution_count": 61,
   "metadata": {},
   "outputs": [
    {
     "name": "stdout",
     "output_type": "stream",
     "text": [
      "A_sale 的极差为910.39,B_sale 的极差为965.51\n"
     ]
    }
   ],
   "source": [
    "def ar(data,*cols):\n",
    "    a=list()\n",
    "    for col in cols:\n",
    "        b=data[col].max()-data[col].min()\n",
    "        b=round(b,2)\n",
    "        a.append(b)\n",
    "    return a\n",
    "\n",
    "x=ar(data,'A_sale','B_sale')\n",
    "print('A_sale 的极差为%0.2f,B_sale 的极差为%0.2f'%(x[0],x[1]))"
   ]
  },
  {
   "cell_type": "code",
   "execution_count": 66,
   "metadata": {},
   "outputs": [
    {
     "data": {
      "text/plain": [
       "(count     30.000000\n",
       " mean     498.329947\n",
       " std      287.136681\n",
       " min       29.489035\n",
       " 25%      290.400844\n",
       " 50%      471.481742\n",
       " 75%      734.495816\n",
       " max      939.883220\n",
       " Name: A_sale, dtype: float64,\n",
       " count     30.000000\n",
       " mean     557.744439\n",
       " std      308.527442\n",
       " min       20.355593\n",
       " 25%      339.570197\n",
       " 50%      542.622908\n",
       " 75%      885.404076\n",
       " max      985.865610\n",
       " Name: B_sale, dtype: float64)"
      ]
     },
     "execution_count": 66,
     "metadata": {},
     "output_type": "execute_result"
    }
   ],
   "source": [
    "sta=data['A_sale'].describe()\n",
    "stb=data['B_sale'].describe()\n",
    "sta,stb"
   ]
  },
  {
   "cell_type": "code",
   "execution_count": 68,
   "metadata": {},
   "outputs": [
    {
     "name": "stdout",
     "output_type": "stream",
     "text": [
      "A_sale 的分位差为444.09,B_sale 的分位差为545.83\n"
     ]
    }
   ],
   "source": [
    "a_iqr=sta['75%']-sta['25%']\n",
    "b_iqr=stb['75%']-stb['25%']\n",
    "print('A_sale 的分位差为%0.2f,B_sale 的分位差为%0.2f'%(a_iqr,b_iqr))"
   ]
  },
  {
   "cell_type": "code",
   "execution_count": 95,
   "metadata": {},
   "outputs": [
    {
     "data": {
      "text/plain": [
       "{'whiskers': [<matplotlib.lines.Line2D at 0x7f87a43aadd0>,\n",
       "  <matplotlib.lines.Line2D at 0x7f87a43b6950>],\n",
       " 'caps': [<matplotlib.lines.Line2D at 0x7f87a3ee9e90>,\n",
       "  <matplotlib.lines.Line2D at 0x7f87a43bb410>],\n",
       " 'boxes': [<matplotlib.lines.Line2D at 0x7f87a43aad90>],\n",
       " 'medians': [<matplotlib.lines.Line2D at 0x7f87a43bbed0>],\n",
       " 'fliers': [<matplotlib.lines.Line2D at 0x7f87a43bbe10>],\n",
       " 'means': []}"
      ]
     },
     "execution_count": 95,
     "metadata": {},
     "output_type": "execute_result"
    },
    {
     "data": {
      "image/png": "[encoded data removed]",
      "text/plain": [
       "<Figure size 432x288 with 1 Axes>"
      ]
     },
     "metadata": {
      "needs_background": "light"
     },
     "output_type": "display_data"
    }
   ],
   "source": [
    "plt.boxplot(data['A_sale'])\n"
   ]
  },
  {
   "cell_type": "code",
   "execution_count": 101,
   "metadata": {},
   "outputs": [
    {
     "name": "stdout",
     "output_type": "stream",
     "text": [
      "A_sale 标准差287.14，方差79699.22;\n",
      "       B_sale 标准差308.53，方差92016.21\n"
     ]
    }
   ],
   "source": [
    "a_std=sta['std']\n",
    "b_std=stb['std']\n",
    "a_var=np.var(data['A_sale'])\n",
    "b_var=np.var(data['B_sale'])\n",
    "print('''A_sale 标准差%0.2f，方差%0.2f;\n",
    "       B_sale 标准差%0.2f，方差%0.2f'''%(a_std,a_var,b_std,b_var))"
   ]
  },
  {
   "cell_type": "code",
   "execution_count": 115,
   "metadata": {},
   "outputs": [
    {
     "data": {
      "text/plain": [
       "<matplotlib.lines.Line2D at 0x7f87a3dea290>"
      ]
     },
     "execution_count": 115,
     "metadata": {},
     "output_type": "execute_result"
    },
    {
     "data": {
      "image/png": "[encoded data removed]",
      "text/plain": [
       "<Figure size 1152x432 with 2 Axes>"
      ]
     },
     "metadata": {
      "needs_background": "light"
     },
     "output_type": "display_data"
    }
   ],
   "source": [
    "fig=plt.figure(figsize=(16,6))\n",
    "ax1=fig.add_subplot(121)\n",
    "data['A_sale'].plot(kind='kde',color='k')\n",
    "plt.axvline(sta['50%'],ls='-',color='r')\n",
    "plt.axvline(sta['50%']-a_std,ls='--',color='blue',alpha=0.5)\n",
    "plt.axvline(sta['50%']+a_std,ls='--',color='blue',alpha=0.5)\n",
    "\n",
    "ax2=fig.add_subplot(122)\n",
    "data['B_sale'].plot(kind='kde',color='k')\n",
    "plt.axvline(stb['50%'],ls='-',color='r')\n",
    "plt.axvline(stb['50%']-b_std,ls='--',color='blue',alpha=0.5)\n",
    "plt.axvline(stb['50%']+b_std,ls='--',color='blue',alpha=0.5)"
   ]
  },
  {
   "cell_type": "code",
   "execution_count": null,
   "metadata": {},
   "outputs": [],
   "source": []
  }
 ],
 "metadata": {
  "kernelspec": {
   "display_name": "Python 3",
   "language": "python",
   "name": "python3"
  },
  "language_info": {
   "codemirror_mode": {
    "name": "ipython",
    "version": 3
   },
   "file_extension": ".py",
   "mimetype": "text/x-python",
   "name": "python",
   "nbconvert_exporter": "python",
   "pygments_lexer": "ipython3",
   "version": "3.7.6"
  }
 },
 "nbformat": 4,
 "nbformat_minor": 4
}
