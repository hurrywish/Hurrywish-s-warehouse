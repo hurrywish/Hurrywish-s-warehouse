{
 "cells": [
  {
   "cell_type": "code",
   "execution_count": 2,
   "metadata": {},
   "outputs": [],
   "source": [
    "import numpy as np\n",
    "import pandas as pd\n",
    "import matplotlib.pyplot as plt\n",
    "%matplotlib inline"
   ]
  },
  {
   "cell_type": "code",
   "execution_count": 3,
   "metadata": {},
   "outputs": [],
   "source": [
    "path='/Users/hurrywish/Downloads/Python_dataAnalysis_20201022_172952/【第01套 系统学习】Python数据分析师零基础入门到项目实战全套 201课 （课件、源码、项目、答案）/00.配套资料（课件、项目、答案、源码）/01.Python数据分析师课程资料/CLASSDATA_ch04进阶算法学习：统计分析能力强化/CH01数据特征分析/深圳罗湖二手房信息.csv'"
   ]
  },
  {
   "cell_type": "code",
   "execution_count": 5,
   "metadata": {},
   "outputs": [],
   "source": [
    "data=pd.read_csv(path,encoding='gbk')"
   ]
  },
  {
   "cell_type": "code",
   "execution_count": 6,
   "metadata": {},
   "outputs": [
    {
     "data": {
      "text/html": [
       "<div>\n",
       "<style scoped>\n",
       "    .dataframe tbody tr th:only-of-type {\n",
       "        vertical-align: middle;\n",
       "    }\n",
       "\n",
       "    .dataframe tbody tr th {\n",
       "        vertical-align: top;\n",
       "    }\n",
       "\n",
       "    .dataframe thead th {\n",
       "        text-align: right;\n",
       "    }\n",
       "</style>\n",
       "<table border=\"1\" class=\"dataframe\">\n",
       "  <thead>\n",
       "    <tr style=\"text-align: right;\">\n",
       "      <th></th>\n",
       "      <th>房屋编码</th>\n",
       "      <th>小区</th>\n",
       "      <th>朝向</th>\n",
       "      <th>房屋单价</th>\n",
       "      <th>参考首付</th>\n",
       "      <th>参考总价</th>\n",
       "      <th>经度</th>\n",
       "      <th>纬度</th>\n",
       "    </tr>\n",
       "  </thead>\n",
       "  <tbody>\n",
       "    <tr>\n",
       "      <th>0</th>\n",
       "      <td>605093949</td>\n",
       "      <td>大望新平村</td>\n",
       "      <td>南北</td>\n",
       "      <td>5434</td>\n",
       "      <td>15.0</td>\n",
       "      <td>50.0</td>\n",
       "      <td>114.180964</td>\n",
       "      <td>22.603698</td>\n",
       "    </tr>\n",
       "    <tr>\n",
       "      <th>1</th>\n",
       "      <td>605768856</td>\n",
       "      <td>通宝楼</td>\n",
       "      <td>南北</td>\n",
       "      <td>3472</td>\n",
       "      <td>7.5</td>\n",
       "      <td>25.0</td>\n",
       "      <td>114.179298</td>\n",
       "      <td>22.566910</td>\n",
       "    </tr>\n",
       "    <tr>\n",
       "      <th>2</th>\n",
       "      <td>606815561</td>\n",
       "      <td>罗湖区罗芳村</td>\n",
       "      <td>南北</td>\n",
       "      <td>5842</td>\n",
       "      <td>15.6</td>\n",
       "      <td>52.0</td>\n",
       "      <td>114.158869</td>\n",
       "      <td>22.547223</td>\n",
       "    </tr>\n",
       "    <tr>\n",
       "      <th>3</th>\n",
       "      <td>605147285</td>\n",
       "      <td>兴华苑</td>\n",
       "      <td>南北</td>\n",
       "      <td>3829</td>\n",
       "      <td>10.8</td>\n",
       "      <td>36.0</td>\n",
       "      <td>114.158040</td>\n",
       "      <td>22.554343</td>\n",
       "    </tr>\n",
       "    <tr>\n",
       "      <th>4</th>\n",
       "      <td>606030866</td>\n",
       "      <td>京基东方都会</td>\n",
       "      <td>西南</td>\n",
       "      <td>47222</td>\n",
       "      <td>51.0</td>\n",
       "      <td>170.0</td>\n",
       "      <td>114.149243</td>\n",
       "      <td>22.554370</td>\n",
       "    </tr>\n",
       "  </tbody>\n",
       "</table>\n",
       "</div>"
      ],
      "text/plain": [
       "        房屋编码      小区  朝向   房屋单价  参考首付   参考总价          经度         纬度\n",
       "0  605093949   大望新平村  南北   5434  15.0   50.0  114.180964  22.603698\n",
       "1  605768856     通宝楼  南北   3472   7.5   25.0  114.179298  22.566910\n",
       "2  606815561  罗湖区罗芳村  南北   5842  15.6   52.0  114.158869  22.547223\n",
       "3  605147285     兴华苑  南北   3829  10.8   36.0  114.158040  22.554343\n",
       "4  606030866  京基东方都会  西南  47222  51.0  170.0  114.149243  22.554370"
      ]
     },
     "execution_count": 6,
     "metadata": {},
     "output_type": "execute_result"
    }
   ],
   "source": [
    "data.head()"
   ]
  },
  {
   "cell_type": "code",
   "execution_count": 11,
   "metadata": {},
   "outputs": [
    {
     "data": {
      "text/plain": [
       "<matplotlib.collections.PathCollection at 0x7fdecdce4310>"
      ]
     },
     "execution_count": 11,
     "metadata": {},
     "output_type": "execute_result"
    },
    {
     "data": {
      "image/png": "[encoded data removed]",
      "text/plain": [
       "<Figure size 432x288 with 1 Axes>"
      ]
     },
     "metadata": {
      "needs_background": "light"
     },
     "output_type": "display_data"
    }
   ],
   "source": [
    "plt.scatter(data['经度'],data['纬度'],s=data['房屋单价']/300,c=data['参考总价'],alpha=0.5,cmap='Reds')"
   ]
  },
  {
   "cell_type": "code",
   "execution_count": 12,
   "metadata": {},
   "outputs": [],
   "source": [
    "# 极差\n",
    "\n",
    "def d_range(df,*cols):\n",
    "    krange=list()\n",
    "    for col in cols:\n",
    "        crange=df[col].max()-df[col].min()\n",
    "        krange.append(crange)\n",
    "    return krange\n",
    "\n",
    "key1='参考总价'\n",
    "key2='参考首付'\n",
    "\n",
    "dr=d_range(data,key1,key2)"
   ]
  },
  {
   "cell_type": "code",
   "execution_count": 13,
   "metadata": {},
   "outputs": [
    {
     "name": "stdout",
     "output_type": "stream",
     "text": [
      "[175.0, 52.5]\n"
     ]
    }
   ],
   "source": [
    "print(dr)"
   ]
  },
  {
   "cell_type": "code",
   "execution_count": 17,
   "metadata": {},
   "outputs": [
    {
     "data": {
      "text/plain": [
       "(array([0.03555556, 0.0431746 , 0.00253968, 0.00507937, 0.01015873,\n",
       "        0.00507937, 0.00761905, 0.01015873, 0.02031746, 0.05079365]),\n",
       " array([ 7.5 , 12.75, 18.  , 23.25, 28.5 , 33.75, 39.  , 44.25, 49.5 ,\n",
       "        54.75, 60.  ]),\n",
       " <a list of 10 Patch objects>)"
      ]
     },
     "execution_count": 17,
     "metadata": {},
     "output_type": "execute_result"
    },
    {
     "data": {
      "image/png": "[encoded data removed]",
      "text/plain": [
       "<Figure size 432x288 with 1 Axes>"
      ]
     },
     "metadata": {
      "needs_background": "light"
     },
     "output_type": "display_data"
    }
   ],
   "source": [
    "# 频率分布\n",
    "\n",
    "plt.hist(data[key2],bins=10,density=True)"
   ]
  },
  {
   "cell_type": "code",
   "execution_count": 21,
   "metadata": {},
   "outputs": [
    {
     "data": {
      "text/plain": [
       "[25.0, 42.5)        14\n",
       "[42.5, 60.0)        17\n",
       "[60.0, 77.5)         1\n",
       "[77.5, 95.0)         2\n",
       "[95.0, 112.5)        4\n",
       "[112.5, 130.0)       2\n",
       "[130.0, 147.5)       3\n",
       "[147.5, 165.0)       4\n",
       "[165.0, 182.5)       8\n",
       "[182.5, 200.175)    20\n",
       "Name: 参考总价, dtype: int64"
      ]
     },
     "execution_count": 21,
     "metadata": {},
     "output_type": "execute_result"
    }
   ],
   "source": [
    "# 频率分布情况\n",
    "\n",
    "gcut=pd.cut(data[key1],10,right=False)\n",
    "gcut.value_counts(sort=False)"
   ]
  },
  {
   "cell_type": "code",
   "execution_count": 22,
   "metadata": {},
   "outputs": [],
   "source": [
    "data['%s分组区间'%(key1)]=gcut.values"
   ]
  },
  {
   "cell_type": "code",
   "execution_count": 23,
   "metadata": {},
   "outputs": [
    {
     "data": {
      "text/html": [
       "<div>\n",
       "<style scoped>\n",
       "    .dataframe tbody tr th:only-of-type {\n",
       "        vertical-align: middle;\n",
       "    }\n",
       "\n",
       "    .dataframe tbody tr th {\n",
       "        vertical-align: top;\n",
       "    }\n",
       "\n",
       "    .dataframe thead th {\n",
       "        text-align: right;\n",
       "    }\n",
       "</style>\n",
       "<table border=\"1\" class=\"dataframe\">\n",
       "  <thead>\n",
       "    <tr style=\"text-align: right;\">\n",
       "      <th></th>\n",
       "      <th>房屋编码</th>\n",
       "      <th>小区</th>\n",
       "      <th>朝向</th>\n",
       "      <th>房屋单价</th>\n",
       "      <th>参考首付</th>\n",
       "      <th>参考总价</th>\n",
       "      <th>经度</th>\n",
       "      <th>纬度</th>\n",
       "      <th>参考总价分组区间</th>\n",
       "    </tr>\n",
       "  </thead>\n",
       "  <tbody>\n",
       "    <tr>\n",
       "      <th>0</th>\n",
       "      <td>605093949</td>\n",
       "      <td>大望新平村</td>\n",
       "      <td>南北</td>\n",
       "      <td>5434</td>\n",
       "      <td>15.0</td>\n",
       "      <td>50.0</td>\n",
       "      <td>114.180964</td>\n",
       "      <td>22.603698</td>\n",
       "      <td>[42.5, 60.0)</td>\n",
       "    </tr>\n",
       "    <tr>\n",
       "      <th>1</th>\n",
       "      <td>605768856</td>\n",
       "      <td>通宝楼</td>\n",
       "      <td>南北</td>\n",
       "      <td>3472</td>\n",
       "      <td>7.5</td>\n",
       "      <td>25.0</td>\n",
       "      <td>114.179298</td>\n",
       "      <td>22.566910</td>\n",
       "      <td>[25.0, 42.5)</td>\n",
       "    </tr>\n",
       "    <tr>\n",
       "      <th>2</th>\n",
       "      <td>606815561</td>\n",
       "      <td>罗湖区罗芳村</td>\n",
       "      <td>南北</td>\n",
       "      <td>5842</td>\n",
       "      <td>15.6</td>\n",
       "      <td>52.0</td>\n",
       "      <td>114.158869</td>\n",
       "      <td>22.547223</td>\n",
       "      <td>[42.5, 60.0)</td>\n",
       "    </tr>\n",
       "    <tr>\n",
       "      <th>3</th>\n",
       "      <td>605147285</td>\n",
       "      <td>兴华苑</td>\n",
       "      <td>南北</td>\n",
       "      <td>3829</td>\n",
       "      <td>10.8</td>\n",
       "      <td>36.0</td>\n",
       "      <td>114.158040</td>\n",
       "      <td>22.554343</td>\n",
       "      <td>[25.0, 42.5)</td>\n",
       "    </tr>\n",
       "    <tr>\n",
       "      <th>4</th>\n",
       "      <td>606030866</td>\n",
       "      <td>京基东方都会</td>\n",
       "      <td>西南</td>\n",
       "      <td>47222</td>\n",
       "      <td>51.0</td>\n",
       "      <td>170.0</td>\n",
       "      <td>114.149243</td>\n",
       "      <td>22.554370</td>\n",
       "      <td>[165.0, 182.5)</td>\n",
       "    </tr>\n",
       "  </tbody>\n",
       "</table>\n",
       "</div>"
      ],
      "text/plain": [
       "        房屋编码      小区  朝向   房屋单价  参考首付   参考总价          经度         纬度  \\\n",
       "0  605093949   大望新平村  南北   5434  15.0   50.0  114.180964  22.603698   \n",
       "1  605768856     通宝楼  南北   3472   7.5   25.0  114.179298  22.566910   \n",
       "2  606815561  罗湖区罗芳村  南北   5842  15.6   52.0  114.158869  22.547223   \n",
       "3  605147285     兴华苑  南北   3829  10.8   36.0  114.158040  22.554343   \n",
       "4  606030866  京基东方都会  西南  47222  51.0  170.0  114.149243  22.554370   \n",
       "\n",
       "         参考总价分组区间  \n",
       "0    [42.5, 60.0)  \n",
       "1    [25.0, 42.5)  \n",
       "2    [42.5, 60.0)  \n",
       "3    [25.0, 42.5)  \n",
       "4  [165.0, 182.5)  "
      ]
     },
     "execution_count": 23,
     "metadata": {},
     "output_type": "execute_result"
    }
   ],
   "source": [
    "data.head()"
   ]
  },
  {
   "cell_type": "code",
   "execution_count": 51,
   "metadata": {},
   "outputs": [
    {
     "data": {
      "text/html": [
       "<style  type=\"text/css\" >\n",
       "    #T_a5ad90ac_1824_11eb_9d3d_acde48001122row0_col1 {\n",
       "            width:  10em;\n",
       "             height:  80%;\n",
       "            background:  linear-gradient(90deg,#d65f5f 68.4%, transparent 68.4%);\n",
       "        }    #T_a5ad90ac_1824_11eb_9d3d_acde48001122row0_col2 {\n",
       "            width:  10em;\n",
       "             height:  80%;\n",
       "        }    #T_a5ad90ac_1824_11eb_9d3d_acde48001122row1_col1 {\n",
       "            width:  10em;\n",
       "             height:  80%;\n",
       "            background:  linear-gradient(90deg,#d65f5f 84.2%, transparent 84.2%);\n",
       "        }    #T_a5ad90ac_1824_11eb_9d3d_acde48001122row1_col2 {\n",
       "            width:  10em;\n",
       "             height:  80%;\n",
       "            background:  linear-gradient(90deg,#d65f5f 27.9%, transparent 27.9%);\n",
       "        }    #T_a5ad90ac_1824_11eb_9d3d_acde48001122row2_col1 {\n",
       "            width:  10em;\n",
       "             height:  80%;\n",
       "        }    #T_a5ad90ac_1824_11eb_9d3d_acde48001122row2_col2 {\n",
       "            width:  10em;\n",
       "             height:  80%;\n",
       "            background:  linear-gradient(90deg,#d65f5f 29.5%, transparent 29.5%);\n",
       "        }    #T_a5ad90ac_1824_11eb_9d3d_acde48001122row3_col1 {\n",
       "            width:  10em;\n",
       "             height:  80%;\n",
       "            background:  linear-gradient(90deg,#d65f5f 5.3%, transparent 5.3%);\n",
       "        }    #T_a5ad90ac_1824_11eb_9d3d_acde48001122row3_col2 {\n",
       "            width:  10em;\n",
       "             height:  80%;\n",
       "            background:  linear-gradient(90deg,#d65f5f 32.8%, transparent 32.8%);\n",
       "        }    #T_a5ad90ac_1824_11eb_9d3d_acde48001122row4_col1 {\n",
       "            width:  10em;\n",
       "             height:  80%;\n",
       "            background:  linear-gradient(90deg,#d65f5f 15.8%, transparent 15.8%);\n",
       "        }    #T_a5ad90ac_1824_11eb_9d3d_acde48001122row4_col2 {\n",
       "            width:  10em;\n",
       "             height:  80%;\n",
       "            background:  linear-gradient(90deg,#d65f5f 39.3%, transparent 39.3%);\n",
       "        }    #T_a5ad90ac_1824_11eb_9d3d_acde48001122row5_col1 {\n",
       "            width:  10em;\n",
       "             height:  80%;\n",
       "            background:  linear-gradient(90deg,#d65f5f 5.3%, transparent 5.3%);\n",
       "        }    #T_a5ad90ac_1824_11eb_9d3d_acde48001122row5_col2 {\n",
       "            width:  10em;\n",
       "             height:  80%;\n",
       "            background:  linear-gradient(90deg,#d65f5f 42.6%, transparent 42.6%);\n",
       "        }    #T_a5ad90ac_1824_11eb_9d3d_acde48001122row6_col1 {\n",
       "            width:  10em;\n",
       "             height:  80%;\n",
       "            background:  linear-gradient(90deg,#d65f5f 10.5%, transparent 10.5%);\n",
       "        }    #T_a5ad90ac_1824_11eb_9d3d_acde48001122row6_col2 {\n",
       "            width:  10em;\n",
       "             height:  80%;\n",
       "            background:  linear-gradient(90deg,#d65f5f 47.5%, transparent 47.5%);\n",
       "        }    #T_a5ad90ac_1824_11eb_9d3d_acde48001122row7_col1 {\n",
       "            width:  10em;\n",
       "             height:  80%;\n",
       "            background:  linear-gradient(90deg,#d65f5f 15.8%, transparent 15.8%);\n",
       "        }    #T_a5ad90ac_1824_11eb_9d3d_acde48001122row7_col2 {\n",
       "            width:  10em;\n",
       "             height:  80%;\n",
       "            background:  linear-gradient(90deg,#d65f5f 54.1%, transparent 54.1%);\n",
       "        }    #T_a5ad90ac_1824_11eb_9d3d_acde48001122row8_col1 {\n",
       "            width:  10em;\n",
       "             height:  80%;\n",
       "            background:  linear-gradient(90deg,#d65f5f 36.8%, transparent 36.8%);\n",
       "        }    #T_a5ad90ac_1824_11eb_9d3d_acde48001122row8_col2 {\n",
       "            width:  10em;\n",
       "             height:  80%;\n",
       "            background:  linear-gradient(90deg,#d65f5f 67.2%, transparent 67.2%);\n",
       "        }    #T_a5ad90ac_1824_11eb_9d3d_acde48001122row9_col1 {\n",
       "            width:  10em;\n",
       "             height:  80%;\n",
       "            background:  linear-gradient(90deg,#d65f5f 100.0%, transparent 100.0%);\n",
       "        }    #T_a5ad90ac_1824_11eb_9d3d_acde48001122row9_col2 {\n",
       "            width:  10em;\n",
       "             height:  80%;\n",
       "            background:  linear-gradient(90deg,#d65f5f 100.0%, transparent 100.0%);\n",
       "        }</style><table id=\"T_a5ad90ac_1824_11eb_9d3d_acde48001122\" ><thead>    <tr>        <th class=\"blank level0\" ></th>        <th class=\"col_heading level0 col0\" >频数</th>        <th class=\"col_heading level0 col1\" >频率</th>        <th class=\"col_heading level0 col2\" >累计频率</th>        <th class=\"col_heading level0 col3\" >频率%</th>    </tr></thead><tbody>\n",
       "                <tr>\n",
       "                        <th id=\"T_a5ad90ac_1824_11eb_9d3d_acde48001122level0_row0\" class=\"row_heading level0 row0\" >[25.0, 42.5)</th>\n",
       "                        <td id=\"T_a5ad90ac_1824_11eb_9d3d_acde48001122row0_col0\" class=\"data row0 col0\" >14</td>\n",
       "                        <td id=\"T_a5ad90ac_1824_11eb_9d3d_acde48001122row0_col1\" class=\"data row0 col1\" >0.186667</td>\n",
       "                        <td id=\"T_a5ad90ac_1824_11eb_9d3d_acde48001122row0_col2\" class=\"data row0 col2\" >0.186667</td>\n",
       "                        <td id=\"T_a5ad90ac_1824_11eb_9d3d_acde48001122row0_col3\" class=\"data row0 col3\" >18.67%</td>\n",
       "            </tr>\n",
       "            <tr>\n",
       "                        <th id=\"T_a5ad90ac_1824_11eb_9d3d_acde48001122level0_row1\" class=\"row_heading level0 row1\" >[42.5, 60.0)</th>\n",
       "                        <td id=\"T_a5ad90ac_1824_11eb_9d3d_acde48001122row1_col0\" class=\"data row1 col0\" >17</td>\n",
       "                        <td id=\"T_a5ad90ac_1824_11eb_9d3d_acde48001122row1_col1\" class=\"data row1 col1\" >0.226667</td>\n",
       "                        <td id=\"T_a5ad90ac_1824_11eb_9d3d_acde48001122row1_col2\" class=\"data row1 col2\" >0.413333</td>\n",
       "                        <td id=\"T_a5ad90ac_1824_11eb_9d3d_acde48001122row1_col3\" class=\"data row1 col3\" >22.67%</td>\n",
       "            </tr>\n",
       "            <tr>\n",
       "                        <th id=\"T_a5ad90ac_1824_11eb_9d3d_acde48001122level0_row2\" class=\"row_heading level0 row2\" >[60.0, 77.5)</th>\n",
       "                        <td id=\"T_a5ad90ac_1824_11eb_9d3d_acde48001122row2_col0\" class=\"data row2 col0\" >1</td>\n",
       "                        <td id=\"T_a5ad90ac_1824_11eb_9d3d_acde48001122row2_col1\" class=\"data row2 col1\" >0.013333</td>\n",
       "                        <td id=\"T_a5ad90ac_1824_11eb_9d3d_acde48001122row2_col2\" class=\"data row2 col2\" >0.426667</td>\n",
       "                        <td id=\"T_a5ad90ac_1824_11eb_9d3d_acde48001122row2_col3\" class=\"data row2 col3\" >1.33%</td>\n",
       "            </tr>\n",
       "            <tr>\n",
       "                        <th id=\"T_a5ad90ac_1824_11eb_9d3d_acde48001122level0_row3\" class=\"row_heading level0 row3\" >[77.5, 95.0)</th>\n",
       "                        <td id=\"T_a5ad90ac_1824_11eb_9d3d_acde48001122row3_col0\" class=\"data row3 col0\" >2</td>\n",
       "                        <td id=\"T_a5ad90ac_1824_11eb_9d3d_acde48001122row3_col1\" class=\"data row3 col1\" >0.026667</td>\n",
       "                        <td id=\"T_a5ad90ac_1824_11eb_9d3d_acde48001122row3_col2\" class=\"data row3 col2\" >0.453333</td>\n",
       "                        <td id=\"T_a5ad90ac_1824_11eb_9d3d_acde48001122row3_col3\" class=\"data row3 col3\" >2.67%</td>\n",
       "            </tr>\n",
       "            <tr>\n",
       "                        <th id=\"T_a5ad90ac_1824_11eb_9d3d_acde48001122level0_row4\" class=\"row_heading level0 row4\" >[95.0, 112.5)</th>\n",
       "                        <td id=\"T_a5ad90ac_1824_11eb_9d3d_acde48001122row4_col0\" class=\"data row4 col0\" >4</td>\n",
       "                        <td id=\"T_a5ad90ac_1824_11eb_9d3d_acde48001122row4_col1\" class=\"data row4 col1\" >0.053333</td>\n",
       "                        <td id=\"T_a5ad90ac_1824_11eb_9d3d_acde48001122row4_col2\" class=\"data row4 col2\" >0.506667</td>\n",
       "                        <td id=\"T_a5ad90ac_1824_11eb_9d3d_acde48001122row4_col3\" class=\"data row4 col3\" >5.33%</td>\n",
       "            </tr>\n",
       "            <tr>\n",
       "                        <th id=\"T_a5ad90ac_1824_11eb_9d3d_acde48001122level0_row5\" class=\"row_heading level0 row5\" >[112.5, 130.0)</th>\n",
       "                        <td id=\"T_a5ad90ac_1824_11eb_9d3d_acde48001122row5_col0\" class=\"data row5 col0\" >2</td>\n",
       "                        <td id=\"T_a5ad90ac_1824_11eb_9d3d_acde48001122row5_col1\" class=\"data row5 col1\" >0.026667</td>\n",
       "                        <td id=\"T_a5ad90ac_1824_11eb_9d3d_acde48001122row5_col2\" class=\"data row5 col2\" >0.533333</td>\n",
       "                        <td id=\"T_a5ad90ac_1824_11eb_9d3d_acde48001122row5_col3\" class=\"data row5 col3\" >2.67%</td>\n",
       "            </tr>\n",
       "            <tr>\n",
       "                        <th id=\"T_a5ad90ac_1824_11eb_9d3d_acde48001122level0_row6\" class=\"row_heading level0 row6\" >[130.0, 147.5)</th>\n",
       "                        <td id=\"T_a5ad90ac_1824_11eb_9d3d_acde48001122row6_col0\" class=\"data row6 col0\" >3</td>\n",
       "                        <td id=\"T_a5ad90ac_1824_11eb_9d3d_acde48001122row6_col1\" class=\"data row6 col1\" >0.040000</td>\n",
       "                        <td id=\"T_a5ad90ac_1824_11eb_9d3d_acde48001122row6_col2\" class=\"data row6 col2\" >0.573333</td>\n",
       "                        <td id=\"T_a5ad90ac_1824_11eb_9d3d_acde48001122row6_col3\" class=\"data row6 col3\" >4.00%</td>\n",
       "            </tr>\n",
       "            <tr>\n",
       "                        <th id=\"T_a5ad90ac_1824_11eb_9d3d_acde48001122level0_row7\" class=\"row_heading level0 row7\" >[147.5, 165.0)</th>\n",
       "                        <td id=\"T_a5ad90ac_1824_11eb_9d3d_acde48001122row7_col0\" class=\"data row7 col0\" >4</td>\n",
       "                        <td id=\"T_a5ad90ac_1824_11eb_9d3d_acde48001122row7_col1\" class=\"data row7 col1\" >0.053333</td>\n",
       "                        <td id=\"T_a5ad90ac_1824_11eb_9d3d_acde48001122row7_col2\" class=\"data row7 col2\" >0.626667</td>\n",
       "                        <td id=\"T_a5ad90ac_1824_11eb_9d3d_acde48001122row7_col3\" class=\"data row7 col3\" >5.33%</td>\n",
       "            </tr>\n",
       "            <tr>\n",
       "                        <th id=\"T_a5ad90ac_1824_11eb_9d3d_acde48001122level0_row8\" class=\"row_heading level0 row8\" >[165.0, 182.5)</th>\n",
       "                        <td id=\"T_a5ad90ac_1824_11eb_9d3d_acde48001122row8_col0\" class=\"data row8 col0\" >8</td>\n",
       "                        <td id=\"T_a5ad90ac_1824_11eb_9d3d_acde48001122row8_col1\" class=\"data row8 col1\" >0.106667</td>\n",
       "                        <td id=\"T_a5ad90ac_1824_11eb_9d3d_acde48001122row8_col2\" class=\"data row8 col2\" >0.733333</td>\n",
       "                        <td id=\"T_a5ad90ac_1824_11eb_9d3d_acde48001122row8_col3\" class=\"data row8 col3\" >10.67%</td>\n",
       "            </tr>\n",
       "            <tr>\n",
       "                        <th id=\"T_a5ad90ac_1824_11eb_9d3d_acde48001122level0_row9\" class=\"row_heading level0 row9\" >[182.5, 200.175)</th>\n",
       "                        <td id=\"T_a5ad90ac_1824_11eb_9d3d_acde48001122row9_col0\" class=\"data row9 col0\" >20</td>\n",
       "                        <td id=\"T_a5ad90ac_1824_11eb_9d3d_acde48001122row9_col1\" class=\"data row9 col1\" >0.266667</td>\n",
       "                        <td id=\"T_a5ad90ac_1824_11eb_9d3d_acde48001122row9_col2\" class=\"data row9 col2\" >1.000000</td>\n",
       "                        <td id=\"T_a5ad90ac_1824_11eb_9d3d_acde48001122row9_col3\" class=\"data row9 col3\" >26.67%</td>\n",
       "            </tr>\n",
       "    </tbody></table>"
      ],
      "text/plain": [
       "<pandas.io.formats.style.Styler at 0x7fdecf9e86d0>"
      ]
     },
     "execution_count": 51,
     "metadata": {},
     "output_type": "execute_result"
    }
   ],
   "source": [
    "# 分组区间每个区间出现的频率\n",
    "gcut_count=gcut.value_counts(sort=False)\n",
    "r_zj=pd.DataFrame(gcut_count)\n",
    "r_zj.rename({'参考总价':'频数'},axis=1,inplace=True)\n",
    "r_zj['频率']=r_zj['频数']/r_zj['频数'].sum()\n",
    "r_zj['累计频率']=r_zj['频率'].cumsum()\n",
    "r_zj['频率%']=r_zj['频率'].apply(lambda x:'%.2f%%'%(x*100))\n",
    "r_zj.style.bar(subset=['频率','累计频率'])"
   ]
  },
  {
   "cell_type": "code",
   "execution_count": 121,
   "metadata": {},
   "outputs": [
    {
     "data": {
      "image/png": "[encoded data removed]",
      "text/plain": [
       "<Figure size 720x576 with 1 Axes>"
      ]
     },
     "metadata": {
      "needs_background": "light"
     },
     "output_type": "display_data"
    }
   ],
   "source": [
    "# 直方图\n",
    "r_zj['频率'].plot.bar(rot=60,width=0.8,figsize=(10,8))\n",
    "\n",
    "x=len(r_zj)\n",
    "y=r_zj['频率']\n",
    "z=r_zj['频数']\n",
    "for i,j,k in zip(range(x),y,z):\n",
    "    plt.text(i-0.1,j+0.001,'%s'%(k))"
   ]
  },
  {
   "cell_type": "code",
   "execution_count": 207,
   "metadata": {},
   "outputs": [
    {
     "data": {
      "image/png": "[encoded data removed]",
      "text/plain": [
       "<Figure size 864x720 with 2 Axes>"
      ]
     },
     "metadata": {},
     "output_type": "display_data"
    }
   ],
   "source": [
    "# 频率分布\n",
    "plt.style.use('seaborn-whitegrid')\n",
    "plt.rcParams['font.sans-serif']=['SimHei'] \n",
    "plt.rcParams.update({'font.size': 12})\n",
    "cx_g=data['朝向']\n",
    "cx_g_count=cx_g.value_counts()\n",
    "array_cx=pd.DataFrame(cx_g_count)\n",
    "array_cx.rename({'朝向':'频数'},axis=1,inplace=True)\n",
    "array_cx['频率']=array_cx['频数']/array_cx['频数'].sum()\n",
    "array_cx['累计频率']=array_cx['频率'].cumsum()\n",
    "array_cx['频率%']=array_cx['频率'].apply(lambda x:'%.2f%%'%(x*100))\n",
    "fig=plt.subplots(figsize=(12,10))\n",
    "ax1=plt.subplot(2,1,1)\n",
    "ax2=plt.subplot(2,1,2)\n",
    "ax1.bar(x=array_cx.index,height=array_cx['频率'],width=0.8)\n",
    "ax2.pie(array_cx['频率'],labels=array_cx['频率'].index,autopct='%.1f%%')\n",
    "ax1.set_ylim([0,0.5])\n",
    "for i,j,k in zip(range(len(array_cx)),array_cx['频率'],array_cx.index):\n",
    "    ax1.text(i-0.1,j+0.01,'%.1f%%'%(j*100),fontsize=10)"
   ]
  },
  {
   "cell_type": "code",
   "execution_count": 151,
   "metadata": {},
   "outputs": [
    {
     "data": {
      "text/html": [
       "<div>\n",
       "<style scoped>\n",
       "    .dataframe tbody tr th:only-of-type {\n",
       "        vertical-align: middle;\n",
       "    }\n",
       "\n",
       "    .dataframe tbody tr th {\n",
       "        vertical-align: top;\n",
       "    }\n",
       "\n",
       "    .dataframe thead th {\n",
       "        text-align: right;\n",
       "    }\n",
       "</style>\n",
       "<table border=\"1\" class=\"dataframe\">\n",
       "  <thead>\n",
       "    <tr style=\"text-align: right;\">\n",
       "      <th></th>\n",
       "      <th>频数</th>\n",
       "      <th>频率</th>\n",
       "      <th>累计频率</th>\n",
       "      <th>频率%</th>\n",
       "    </tr>\n",
       "  </thead>\n",
       "  <tbody>\n",
       "    <tr>\n",
       "      <th>南北</th>\n",
       "      <td>29</td>\n",
       "      <td>0.386667</td>\n",
       "      <td>0.386667</td>\n",
       "      <td>38.67%</td>\n",
       "    </tr>\n",
       "    <tr>\n",
       "      <th>南</th>\n",
       "      <td>20</td>\n",
       "      <td>0.266667</td>\n",
       "      <td>0.653333</td>\n",
       "      <td>26.67%</td>\n",
       "    </tr>\n",
       "    <tr>\n",
       "      <th>东</th>\n",
       "      <td>8</td>\n",
       "      <td>0.106667</td>\n",
       "      <td>0.760000</td>\n",
       "      <td>10.67%</td>\n",
       "    </tr>\n",
       "    <tr>\n",
       "      <th>东南</th>\n",
       "      <td>5</td>\n",
       "      <td>0.066667</td>\n",
       "      <td>0.826667</td>\n",
       "      <td>6.67%</td>\n",
       "    </tr>\n",
       "    <tr>\n",
       "      <th>西南</th>\n",
       "      <td>4</td>\n",
       "      <td>0.053333</td>\n",
       "      <td>0.880000</td>\n",
       "      <td>5.33%</td>\n",
       "    </tr>\n",
       "    <tr>\n",
       "      <th>北</th>\n",
       "      <td>4</td>\n",
       "      <td>0.053333</td>\n",
       "      <td>0.933333</td>\n",
       "      <td>5.33%</td>\n",
       "    </tr>\n",
       "    <tr>\n",
       "      <th>西北</th>\n",
       "      <td>3</td>\n",
       "      <td>0.040000</td>\n",
       "      <td>0.973333</td>\n",
       "      <td>4.00%</td>\n",
       "    </tr>\n",
       "    <tr>\n",
       "      <th>东北</th>\n",
       "      <td>1</td>\n",
       "      <td>0.013333</td>\n",
       "      <td>0.986667</td>\n",
       "      <td>1.33%</td>\n",
       "    </tr>\n",
       "    <tr>\n",
       "      <th>东西</th>\n",
       "      <td>1</td>\n",
       "      <td>0.013333</td>\n",
       "      <td>1.000000</td>\n",
       "      <td>1.33%</td>\n",
       "    </tr>\n",
       "  </tbody>\n",
       "</table>\n",
       "</div>"
      ],
      "text/plain": [
       "    频数        频率      累计频率     频率%\n",
       "南北  29  0.386667  0.386667  38.67%\n",
       "南   20  0.266667  0.653333  26.67%\n",
       "东    8  0.106667  0.760000  10.67%\n",
       "东南   5  0.066667  0.826667   6.67%\n",
       "西南   4  0.053333  0.880000   5.33%\n",
       "北    4  0.053333  0.933333   5.33%\n",
       "西北   3  0.040000  0.973333   4.00%\n",
       "东北   1  0.013333  0.986667   1.33%\n",
       "东西   1  0.013333  1.000000   1.33%"
      ]
     },
     "execution_count": 151,
     "metadata": {},
     "output_type": "execute_result"
    }
   ],
   "source": [
    "array_cx"
   ]
  },
  {
   "cell_type": "code",
   "execution_count": 200,
   "metadata": {},
   "outputs": [
    {
     "data": {
      "text/plain": [
       "['seaborn-dark',\n",
       " 'seaborn-darkgrid',\n",
       " 'seaborn-ticks',\n",
       " 'fivethirtyeight',\n",
       " 'seaborn-whitegrid',\n",
       " 'classic',\n",
       " '_classic_test',\n",
       " 'fast',\n",
       " 'seaborn-talk',\n",
       " 'seaborn-dark-palette',\n",
       " 'seaborn-bright',\n",
       " 'seaborn-pastel',\n",
       " 'grayscale',\n",
       " 'seaborn-notebook',\n",
       " 'ggplot',\n",
       " 'seaborn-colorblind',\n",
       " 'seaborn-muted',\n",
       " 'seaborn',\n",
       " 'Solarize_Light2',\n",
       " 'seaborn-paper',\n",
       " 'bmh',\n",
       " 'tableau-colorblind10',\n",
       " 'seaborn-white',\n",
       " 'dark_background',\n",
       " 'seaborn-poster',\n",
       " 'seaborn-deep']"
      ]
     },
     "execution_count": 200,
     "metadata": {},
     "output_type": "execute_result"
    }
   ],
   "source": [
    "plt.style.available "
   ]
  },
  {
   "cell_type": "code",
   "execution_count": null,
   "metadata": {},
   "outputs": [],
   "source": []
  }
 ],
 "metadata": {
  "kernelspec": {
   "display_name": "Python 3",
   "language": "python",
   "name": "python3"
  },
  "language_info": {
   "codemirror_mode": {
    "name": "ipython",
    "version": 3
   },
   "file_extension": ".py",
   "mimetype": "text/x-python",
   "name": "python",
   "nbconvert_exporter": "python",
   "pygments_lexer": "ipython3",
   "version": "3.7.6"
  }
 },
 "nbformat": 4,
 "nbformat_minor": 4
}
