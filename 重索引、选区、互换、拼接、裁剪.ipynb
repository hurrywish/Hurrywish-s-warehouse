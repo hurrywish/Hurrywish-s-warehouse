{
 "cells": [
  {
   "cell_type": "code",
   "execution_count": 61,
   "metadata": {},
   "outputs": [],
   "source": [
    "import numpy as np\n",
    "import pandas as pd\n",
    "from matplotlib import pyplot as plt\n",
    "from functools import reduce\n",
    "%matplotlib inline"
   ]
  },
  {
   "cell_type": "code",
   "execution_count": 16,
   "metadata": {},
   "outputs": [],
   "source": [
    "columns=[['junior','junior','youth','youth'],['Zhang','Wang','Li','Zhao']]\n",
    "index=[['morning','morning','morning','afternoon','afternoon','afternoon'],[1,2,3,1,2,3]]\n",
    "data=np.array([[31,27,24,60],[26,28,13,29],[27,17,12,27],[29,9,5,18],[31,12,4,70],[45,11,12,12]])\n",
    "Gamedata=pd.DataFrame(data,columns=columns,index=index)"
   ]
  },
  {
   "cell_type": "code",
   "execution_count": 17,
   "metadata": {},
   "outputs": [
    {
     "data": {
      "text/html": [
       "<div>\n",
       "<style scoped>\n",
       "    .dataframe tbody tr th:only-of-type {\n",
       "        vertical-align: middle;\n",
       "    }\n",
       "\n",
       "    .dataframe tbody tr th {\n",
       "        vertical-align: top;\n",
       "    }\n",
       "\n",
       "    .dataframe thead tr th {\n",
       "        text-align: left;\n",
       "    }\n",
       "</style>\n",
       "<table border=\"1\" class=\"dataframe\">\n",
       "  <thead>\n",
       "    <tr>\n",
       "      <th></th>\n",
       "      <th></th>\n",
       "      <th colspan=\"2\" halign=\"left\">junior</th>\n",
       "      <th colspan=\"2\" halign=\"left\">youth</th>\n",
       "    </tr>\n",
       "    <tr>\n",
       "      <th></th>\n",
       "      <th></th>\n",
       "      <th>Zhang</th>\n",
       "      <th>Wang</th>\n",
       "      <th>Li</th>\n",
       "      <th>Zhao</th>\n",
       "    </tr>\n",
       "  </thead>\n",
       "  <tbody>\n",
       "    <tr>\n",
       "      <th rowspan=\"3\" valign=\"top\">morning</th>\n",
       "      <th>1</th>\n",
       "      <td>31</td>\n",
       "      <td>27</td>\n",
       "      <td>24</td>\n",
       "      <td>60</td>\n",
       "    </tr>\n",
       "    <tr>\n",
       "      <th>2</th>\n",
       "      <td>26</td>\n",
       "      <td>28</td>\n",
       "      <td>13</td>\n",
       "      <td>29</td>\n",
       "    </tr>\n",
       "    <tr>\n",
       "      <th>3</th>\n",
       "      <td>27</td>\n",
       "      <td>17</td>\n",
       "      <td>12</td>\n",
       "      <td>27</td>\n",
       "    </tr>\n",
       "    <tr>\n",
       "      <th rowspan=\"3\" valign=\"top\">afternoon</th>\n",
       "      <th>1</th>\n",
       "      <td>29</td>\n",
       "      <td>9</td>\n",
       "      <td>5</td>\n",
       "      <td>18</td>\n",
       "    </tr>\n",
       "    <tr>\n",
       "      <th>2</th>\n",
       "      <td>31</td>\n",
       "      <td>12</td>\n",
       "      <td>4</td>\n",
       "      <td>70</td>\n",
       "    </tr>\n",
       "    <tr>\n",
       "      <th>3</th>\n",
       "      <td>45</td>\n",
       "      <td>11</td>\n",
       "      <td>12</td>\n",
       "      <td>12</td>\n",
       "    </tr>\n",
       "  </tbody>\n",
       "</table>\n",
       "</div>"
      ],
      "text/plain": [
       "            junior      youth     \n",
       "             Zhang Wang    Li Zhao\n",
       "morning   1     31   27    24   60\n",
       "          2     26   28    13   29\n",
       "          3     27   17    12   27\n",
       "afternoon 1     29    9     5   18\n",
       "          2     31   12     4   70\n",
       "          3     45   11    12   12"
      ]
     },
     "execution_count": 17,
     "metadata": {},
     "output_type": "execute_result"
    }
   ],
   "source": [
    "Gamedata"
   ]
  },
  {
   "cell_type": "code",
   "execution_count": 18,
   "metadata": {},
   "outputs": [
    {
     "data": {
      "text/plain": [
       "31"
      ]
     },
     "execution_count": 18,
     "metadata": {},
     "output_type": "execute_result"
    }
   ],
   "source": [
    "Gamedata['junior']['Zhang'].loc['morning'].loc[1] #按照行的索引"
   ]
  },
  {
   "cell_type": "code",
   "execution_count": 27,
   "metadata": {},
   "outputs": [
    {
     "data": {
      "text/plain": [
       "1    24\n",
       "2    13\n",
       "Name: Li, dtype: int64"
      ]
     },
     "execution_count": 27,
     "metadata": {},
     "output_type": "execute_result"
    }
   ],
   "source": [
    "Gamedata['youth'].loc['morning'].loc[1:2,'Li'] #观察数值索引是否是默认的还是设置的"
   ]
  },
  {
   "cell_type": "code",
   "execution_count": 28,
   "metadata": {},
   "outputs": [
    {
     "data": {
      "text/html": [
       "<div>\n",
       "<style scoped>\n",
       "    .dataframe tbody tr th:only-of-type {\n",
       "        vertical-align: middle;\n",
       "    }\n",
       "\n",
       "    .dataframe tbody tr th {\n",
       "        vertical-align: top;\n",
       "    }\n",
       "\n",
       "    .dataframe thead th {\n",
       "        text-align: right;\n",
       "    }\n",
       "</style>\n",
       "<table border=\"1\" class=\"dataframe\">\n",
       "  <thead>\n",
       "    <tr style=\"text-align: right;\">\n",
       "      <th></th>\n",
       "      <th>Li</th>\n",
       "      <th>Zhao</th>\n",
       "    </tr>\n",
       "  </thead>\n",
       "  <tbody>\n",
       "    <tr>\n",
       "      <th>1</th>\n",
       "      <td>24</td>\n",
       "      <td>60</td>\n",
       "    </tr>\n",
       "    <tr>\n",
       "      <th>2</th>\n",
       "      <td>13</td>\n",
       "      <td>29</td>\n",
       "    </tr>\n",
       "  </tbody>\n",
       "</table>\n",
       "</div>"
      ],
      "text/plain": [
       "   Li  Zhao\n",
       "1  24    60\n",
       "2  13    29"
      ]
     },
     "execution_count": 28,
     "metadata": {},
     "output_type": "execute_result"
    }
   ],
   "source": [
    "Gamedata['youth'].loc['morning'].loc[1:2,'Li':'Zhao']"
   ]
  },
  {
   "cell_type": "code",
   "execution_count": 29,
   "metadata": {},
   "outputs": [
    {
     "data": {
      "text/html": [
       "<div>\n",
       "<style scoped>\n",
       "    .dataframe tbody tr th:only-of-type {\n",
       "        vertical-align: middle;\n",
       "    }\n",
       "\n",
       "    .dataframe tbody tr th {\n",
       "        vertical-align: top;\n",
       "    }\n",
       "\n",
       "    .dataframe thead th {\n",
       "        text-align: right;\n",
       "    }\n",
       "</style>\n",
       "<table border=\"1\" class=\"dataframe\">\n",
       "  <thead>\n",
       "    <tr style=\"text-align: right;\">\n",
       "      <th></th>\n",
       "      <th></th>\n",
       "      <th>Zhang</th>\n",
       "      <th>Wang</th>\n",
       "    </tr>\n",
       "  </thead>\n",
       "  <tbody>\n",
       "    <tr>\n",
       "      <th>morning</th>\n",
       "      <th>1</th>\n",
       "      <td>31</td>\n",
       "      <td>27</td>\n",
       "    </tr>\n",
       "    <tr>\n",
       "      <th>afternoon</th>\n",
       "      <th>2</th>\n",
       "      <td>31</td>\n",
       "      <td>12</td>\n",
       "    </tr>\n",
       "  </tbody>\n",
       "</table>\n",
       "</div>"
      ],
      "text/plain": [
       "             Zhang  Wang\n",
       "morning   1     31    27\n",
       "afternoon 2     31    12"
      ]
     },
     "execution_count": 29,
     "metadata": {},
     "output_type": "execute_result"
    }
   ],
   "source": [
    "Gamedata.junior.loc[[('morning',1),('afternoon',2)]] #跨区索引"
   ]
  },
  {
   "cell_type": "markdown",
   "metadata": {},
   "source": [
    "# 索引的互换"
   ]
  },
  {
   "cell_type": "code",
   "execution_count": 30,
   "metadata": {},
   "outputs": [],
   "source": [
    "Gamedata_1=Gamedata.copy()"
   ]
  },
  {
   "cell_type": "code",
   "execution_count": 33,
   "metadata": {},
   "outputs": [
    {
     "data": {
      "text/html": [
       "<div>\n",
       "<style scoped>\n",
       "    .dataframe tbody tr th:only-of-type {\n",
       "        vertical-align: middle;\n",
       "    }\n",
       "\n",
       "    .dataframe tbody tr th {\n",
       "        vertical-align: top;\n",
       "    }\n",
       "\n",
       "    .dataframe thead tr th {\n",
       "        text-align: left;\n",
       "    }\n",
       "\n",
       "    .dataframe thead tr:last-of-type th {\n",
       "        text-align: right;\n",
       "    }\n",
       "</style>\n",
       "<table border=\"1\" class=\"dataframe\">\n",
       "  <thead>\n",
       "    <tr>\n",
       "      <th></th>\n",
       "      <th>age</th>\n",
       "      <th colspan=\"2\" halign=\"left\">junior</th>\n",
       "      <th colspan=\"2\" halign=\"left\">youth</th>\n",
       "    </tr>\n",
       "    <tr>\n",
       "      <th></th>\n",
       "      <th>family_name</th>\n",
       "      <th>Zhang</th>\n",
       "      <th>Wang</th>\n",
       "      <th>Li</th>\n",
       "      <th>Zhao</th>\n",
       "    </tr>\n",
       "    <tr>\n",
       "      <th>times</th>\n",
       "      <th>series</th>\n",
       "      <th></th>\n",
       "      <th></th>\n",
       "      <th></th>\n",
       "      <th></th>\n",
       "    </tr>\n",
       "  </thead>\n",
       "  <tbody>\n",
       "    <tr>\n",
       "      <th rowspan=\"3\" valign=\"top\">morning</th>\n",
       "      <th>1</th>\n",
       "      <td>31</td>\n",
       "      <td>27</td>\n",
       "      <td>24</td>\n",
       "      <td>60</td>\n",
       "    </tr>\n",
       "    <tr>\n",
       "      <th>2</th>\n",
       "      <td>26</td>\n",
       "      <td>28</td>\n",
       "      <td>13</td>\n",
       "      <td>29</td>\n",
       "    </tr>\n",
       "    <tr>\n",
       "      <th>3</th>\n",
       "      <td>27</td>\n",
       "      <td>17</td>\n",
       "      <td>12</td>\n",
       "      <td>27</td>\n",
       "    </tr>\n",
       "    <tr>\n",
       "      <th rowspan=\"3\" valign=\"top\">afternoon</th>\n",
       "      <th>1</th>\n",
       "      <td>29</td>\n",
       "      <td>9</td>\n",
       "      <td>5</td>\n",
       "      <td>18</td>\n",
       "    </tr>\n",
       "    <tr>\n",
       "      <th>2</th>\n",
       "      <td>31</td>\n",
       "      <td>12</td>\n",
       "      <td>4</td>\n",
       "      <td>70</td>\n",
       "    </tr>\n",
       "    <tr>\n",
       "      <th>3</th>\n",
       "      <td>45</td>\n",
       "      <td>11</td>\n",
       "      <td>12</td>\n",
       "      <td>12</td>\n",
       "    </tr>\n",
       "  </tbody>\n",
       "</table>\n",
       "</div>"
      ],
      "text/plain": [
       "age              junior      youth     \n",
       "family_name       Zhang Wang    Li Zhao\n",
       "times     series                       \n",
       "morning   1          31   27    24   60\n",
       "          2          26   28    13   29\n",
       "          3          27   17    12   27\n",
       "afternoon 1          29    9     5   18\n",
       "          2          31   12     4   70\n",
       "          3          45   11    12   12"
      ]
     },
     "execution_count": 33,
     "metadata": {},
     "output_type": "execute_result"
    }
   ],
   "source": [
    "Gamedata_1.columns.names=['age','family_name'] #给次外层命名\n",
    "Gamedata_1.index.names=['times','series']\n",
    "Gamedata_1"
   ]
  },
  {
   "cell_type": "code",
   "execution_count": 36,
   "metadata": {},
   "outputs": [
    {
     "data": {
      "text/html": [
       "<div>\n",
       "<style scoped>\n",
       "    .dataframe tbody tr th:only-of-type {\n",
       "        vertical-align: middle;\n",
       "    }\n",
       "\n",
       "    .dataframe tbody tr th {\n",
       "        vertical-align: top;\n",
       "    }\n",
       "\n",
       "    .dataframe thead tr th {\n",
       "        text-align: left;\n",
       "    }\n",
       "\n",
       "    .dataframe thead tr:last-of-type th {\n",
       "        text-align: right;\n",
       "    }\n",
       "</style>\n",
       "<table border=\"1\" class=\"dataframe\">\n",
       "  <thead>\n",
       "    <tr>\n",
       "      <th></th>\n",
       "      <th>family_name</th>\n",
       "      <th>Zhang</th>\n",
       "      <th>Wang</th>\n",
       "      <th>Li</th>\n",
       "      <th>Zhao</th>\n",
       "    </tr>\n",
       "    <tr>\n",
       "      <th></th>\n",
       "      <th>age</th>\n",
       "      <th>junior</th>\n",
       "      <th>junior</th>\n",
       "      <th>youth</th>\n",
       "      <th>youth</th>\n",
       "    </tr>\n",
       "    <tr>\n",
       "      <th>times</th>\n",
       "      <th>series</th>\n",
       "      <th></th>\n",
       "      <th></th>\n",
       "      <th></th>\n",
       "      <th></th>\n",
       "    </tr>\n",
       "  </thead>\n",
       "  <tbody>\n",
       "    <tr>\n",
       "      <th rowspan=\"3\" valign=\"top\">morning</th>\n",
       "      <th>1</th>\n",
       "      <td>31</td>\n",
       "      <td>27</td>\n",
       "      <td>24</td>\n",
       "      <td>60</td>\n",
       "    </tr>\n",
       "    <tr>\n",
       "      <th>2</th>\n",
       "      <td>26</td>\n",
       "      <td>28</td>\n",
       "      <td>13</td>\n",
       "      <td>29</td>\n",
       "    </tr>\n",
       "    <tr>\n",
       "      <th>3</th>\n",
       "      <td>27</td>\n",
       "      <td>17</td>\n",
       "      <td>12</td>\n",
       "      <td>27</td>\n",
       "    </tr>\n",
       "    <tr>\n",
       "      <th rowspan=\"3\" valign=\"top\">afternoon</th>\n",
       "      <th>1</th>\n",
       "      <td>29</td>\n",
       "      <td>9</td>\n",
       "      <td>5</td>\n",
       "      <td>18</td>\n",
       "    </tr>\n",
       "    <tr>\n",
       "      <th>2</th>\n",
       "      <td>31</td>\n",
       "      <td>12</td>\n",
       "      <td>4</td>\n",
       "      <td>70</td>\n",
       "    </tr>\n",
       "    <tr>\n",
       "      <th>3</th>\n",
       "      <td>45</td>\n",
       "      <td>11</td>\n",
       "      <td>12</td>\n",
       "      <td>12</td>\n",
       "    </tr>\n",
       "  </tbody>\n",
       "</table>\n",
       "</div>"
      ],
      "text/plain": [
       "family_name       Zhang   Wang    Li  Zhao\n",
       "age              junior junior youth youth\n",
       "times     series                          \n",
       "morning   1          31     27    24    60\n",
       "          2          26     28    13    29\n",
       "          3          27     17    12    27\n",
       "afternoon 1          29      9     5    18\n",
       "          2          31     12     4    70\n",
       "          3          45     11    12    12"
      ]
     },
     "execution_count": 36,
     "metadata": {},
     "output_type": "execute_result"
    }
   ],
   "source": [
    "Gamedata_1.swaplevel('age','family_name',axis=1)"
   ]
  },
  {
   "cell_type": "code",
   "execution_count": 38,
   "metadata": {},
   "outputs": [
    {
     "data": {
      "text/html": [
       "<div>\n",
       "<style scoped>\n",
       "    .dataframe tbody tr th:only-of-type {\n",
       "        vertical-align: middle;\n",
       "    }\n",
       "\n",
       "    .dataframe tbody tr th {\n",
       "        vertical-align: top;\n",
       "    }\n",
       "\n",
       "    .dataframe thead tr th {\n",
       "        text-align: left;\n",
       "    }\n",
       "\n",
       "    .dataframe thead tr:last-of-type th {\n",
       "        text-align: right;\n",
       "    }\n",
       "</style>\n",
       "<table border=\"1\" class=\"dataframe\">\n",
       "  <thead>\n",
       "    <tr>\n",
       "      <th></th>\n",
       "      <th>age</th>\n",
       "      <th colspan=\"2\" halign=\"left\">junior</th>\n",
       "      <th colspan=\"2\" halign=\"left\">youth</th>\n",
       "    </tr>\n",
       "    <tr>\n",
       "      <th></th>\n",
       "      <th>family_name</th>\n",
       "      <th>Zhang</th>\n",
       "      <th>Wang</th>\n",
       "      <th>Li</th>\n",
       "      <th>Zhao</th>\n",
       "    </tr>\n",
       "    <tr>\n",
       "      <th>series</th>\n",
       "      <th>times</th>\n",
       "      <th></th>\n",
       "      <th></th>\n",
       "      <th></th>\n",
       "      <th></th>\n",
       "    </tr>\n",
       "  </thead>\n",
       "  <tbody>\n",
       "    <tr>\n",
       "      <th>1</th>\n",
       "      <th>morning</th>\n",
       "      <td>31</td>\n",
       "      <td>27</td>\n",
       "      <td>24</td>\n",
       "      <td>60</td>\n",
       "    </tr>\n",
       "    <tr>\n",
       "      <th>2</th>\n",
       "      <th>morning</th>\n",
       "      <td>26</td>\n",
       "      <td>28</td>\n",
       "      <td>13</td>\n",
       "      <td>29</td>\n",
       "    </tr>\n",
       "    <tr>\n",
       "      <th>3</th>\n",
       "      <th>morning</th>\n",
       "      <td>27</td>\n",
       "      <td>17</td>\n",
       "      <td>12</td>\n",
       "      <td>27</td>\n",
       "    </tr>\n",
       "    <tr>\n",
       "      <th>1</th>\n",
       "      <th>afternoon</th>\n",
       "      <td>29</td>\n",
       "      <td>9</td>\n",
       "      <td>5</td>\n",
       "      <td>18</td>\n",
       "    </tr>\n",
       "    <tr>\n",
       "      <th>2</th>\n",
       "      <th>afternoon</th>\n",
       "      <td>31</td>\n",
       "      <td>12</td>\n",
       "      <td>4</td>\n",
       "      <td>70</td>\n",
       "    </tr>\n",
       "    <tr>\n",
       "      <th>3</th>\n",
       "      <th>afternoon</th>\n",
       "      <td>45</td>\n",
       "      <td>11</td>\n",
       "      <td>12</td>\n",
       "      <td>12</td>\n",
       "    </tr>\n",
       "  </tbody>\n",
       "</table>\n",
       "</div>"
      ],
      "text/plain": [
       "age              junior      youth     \n",
       "family_name       Zhang Wang    Li Zhao\n",
       "series times                           \n",
       "1      morning       31   27    24   60\n",
       "2      morning       26   28    13   29\n",
       "3      morning       27   17    12   27\n",
       "1      afternoon     29    9     5   18\n",
       "2      afternoon     31   12     4   70\n",
       "3      afternoon     45   11    12   12"
      ]
     },
     "execution_count": 38,
     "metadata": {},
     "output_type": "execute_result"
    }
   ],
   "source": [
    "Gamedata_1.swaplevel('times','series',axis=0)"
   ]
  },
  {
   "cell_type": "markdown",
   "metadata": {},
   "source": [
    "# 排序"
   ]
  },
  {
   "cell_type": "code",
   "execution_count": 48,
   "metadata": {},
   "outputs": [
    {
     "data": {
      "text/html": [
       "<div>\n",
       "<style scoped>\n",
       "    .dataframe tbody tr th:only-of-type {\n",
       "        vertical-align: middle;\n",
       "    }\n",
       "\n",
       "    .dataframe tbody tr th {\n",
       "        vertical-align: top;\n",
       "    }\n",
       "\n",
       "    .dataframe thead tr th {\n",
       "        text-align: left;\n",
       "    }\n",
       "\n",
       "    .dataframe thead tr:last-of-type th {\n",
       "        text-align: right;\n",
       "    }\n",
       "</style>\n",
       "<table border=\"1\" class=\"dataframe\">\n",
       "  <thead>\n",
       "    <tr>\n",
       "      <th></th>\n",
       "      <th>age</th>\n",
       "      <th colspan=\"2\" halign=\"left\">junior</th>\n",
       "      <th colspan=\"2\" halign=\"left\">youth</th>\n",
       "    </tr>\n",
       "    <tr>\n",
       "      <th></th>\n",
       "      <th>family_name</th>\n",
       "      <th>Zhang</th>\n",
       "      <th>Wang</th>\n",
       "      <th>Li</th>\n",
       "      <th>Zhao</th>\n",
       "    </tr>\n",
       "    <tr>\n",
       "      <th>times</th>\n",
       "      <th>series</th>\n",
       "      <th></th>\n",
       "      <th></th>\n",
       "      <th></th>\n",
       "      <th></th>\n",
       "    </tr>\n",
       "  </thead>\n",
       "  <tbody>\n",
       "    <tr>\n",
       "      <th>afternoon</th>\n",
       "      <th>1</th>\n",
       "      <td>29</td>\n",
       "      <td>9</td>\n",
       "      <td>5</td>\n",
       "      <td>18</td>\n",
       "    </tr>\n",
       "    <tr>\n",
       "      <th>morning</th>\n",
       "      <th>1</th>\n",
       "      <td>31</td>\n",
       "      <td>27</td>\n",
       "      <td>24</td>\n",
       "      <td>60</td>\n",
       "    </tr>\n",
       "    <tr>\n",
       "      <th>afternoon</th>\n",
       "      <th>2</th>\n",
       "      <td>31</td>\n",
       "      <td>12</td>\n",
       "      <td>4</td>\n",
       "      <td>70</td>\n",
       "    </tr>\n",
       "    <tr>\n",
       "      <th>morning</th>\n",
       "      <th>2</th>\n",
       "      <td>26</td>\n",
       "      <td>28</td>\n",
       "      <td>13</td>\n",
       "      <td>29</td>\n",
       "    </tr>\n",
       "    <tr>\n",
       "      <th>afternoon</th>\n",
       "      <th>3</th>\n",
       "      <td>45</td>\n",
       "      <td>11</td>\n",
       "      <td>12</td>\n",
       "      <td>12</td>\n",
       "    </tr>\n",
       "    <tr>\n",
       "      <th>morning</th>\n",
       "      <th>3</th>\n",
       "      <td>27</td>\n",
       "      <td>17</td>\n",
       "      <td>12</td>\n",
       "      <td>27</td>\n",
       "    </tr>\n",
       "  </tbody>\n",
       "</table>\n",
       "</div>"
      ],
      "text/plain": [
       "age              junior      youth     \n",
       "family_name       Zhang Wang    Li Zhao\n",
       "times     series                       \n",
       "afternoon 1          29    9     5   18\n",
       "morning   1          31   27    24   60\n",
       "afternoon 2          31   12     4   70\n",
       "morning   2          26   28    13   29\n",
       "afternoon 3          45   11    12   12\n",
       "morning   3          27   17    12   27"
      ]
     },
     "execution_count": 48,
     "metadata": {},
     "output_type": "execute_result"
    }
   ],
   "source": [
    "Gamedata_1.sort_index(axis=0,level=1) #第一个数字是选择行或列索引，第二个数字是级别"
   ]
  },
  {
   "cell_type": "code",
   "execution_count": 42,
   "metadata": {},
   "outputs": [
    {
     "data": {
      "text/html": [
       "<div>\n",
       "<style scoped>\n",
       "    .dataframe tbody tr th:only-of-type {\n",
       "        vertical-align: middle;\n",
       "    }\n",
       "\n",
       "    .dataframe tbody tr th {\n",
       "        vertical-align: top;\n",
       "    }\n",
       "\n",
       "    .dataframe thead tr th {\n",
       "        text-align: left;\n",
       "    }\n",
       "\n",
       "    .dataframe thead tr:last-of-type th {\n",
       "        text-align: right;\n",
       "    }\n",
       "</style>\n",
       "<table border=\"1\" class=\"dataframe\">\n",
       "  <thead>\n",
       "    <tr>\n",
       "      <th></th>\n",
       "      <th>age</th>\n",
       "      <th colspan=\"2\" halign=\"left\">junior</th>\n",
       "      <th colspan=\"2\" halign=\"left\">youth</th>\n",
       "    </tr>\n",
       "    <tr>\n",
       "      <th></th>\n",
       "      <th>family_name</th>\n",
       "      <th>Zhang</th>\n",
       "      <th>Wang</th>\n",
       "      <th>Li</th>\n",
       "      <th>Zhao</th>\n",
       "    </tr>\n",
       "    <tr>\n",
       "      <th>times</th>\n",
       "      <th>series</th>\n",
       "      <th></th>\n",
       "      <th></th>\n",
       "      <th></th>\n",
       "      <th></th>\n",
       "    </tr>\n",
       "  </thead>\n",
       "  <tbody>\n",
       "    <tr>\n",
       "      <th rowspan=\"3\" valign=\"top\">morning</th>\n",
       "      <th>1</th>\n",
       "      <td>31</td>\n",
       "      <td>27</td>\n",
       "      <td>24</td>\n",
       "      <td>60</td>\n",
       "    </tr>\n",
       "    <tr>\n",
       "      <th>2</th>\n",
       "      <td>26</td>\n",
       "      <td>28</td>\n",
       "      <td>13</td>\n",
       "      <td>29</td>\n",
       "    </tr>\n",
       "    <tr>\n",
       "      <th>3</th>\n",
       "      <td>27</td>\n",
       "      <td>17</td>\n",
       "      <td>12</td>\n",
       "      <td>27</td>\n",
       "    </tr>\n",
       "    <tr>\n",
       "      <th rowspan=\"3\" valign=\"top\">afternoon</th>\n",
       "      <th>1</th>\n",
       "      <td>29</td>\n",
       "      <td>9</td>\n",
       "      <td>5</td>\n",
       "      <td>18</td>\n",
       "    </tr>\n",
       "    <tr>\n",
       "      <th>2</th>\n",
       "      <td>31</td>\n",
       "      <td>12</td>\n",
       "      <td>4</td>\n",
       "      <td>70</td>\n",
       "    </tr>\n",
       "    <tr>\n",
       "      <th>3</th>\n",
       "      <td>45</td>\n",
       "      <td>11</td>\n",
       "      <td>12</td>\n",
       "      <td>12</td>\n",
       "    </tr>\n",
       "  </tbody>\n",
       "</table>\n",
       "</div>"
      ],
      "text/plain": [
       "age              junior      youth     \n",
       "family_name       Zhang Wang    Li Zhao\n",
       "times     series                       \n",
       "morning   1          31   27    24   60\n",
       "          2          26   28    13   29\n",
       "          3          27   17    12   27\n",
       "afternoon 1          29    9     5   18\n",
       "          2          31   12     4   70\n",
       "          3          45   11    12   12"
      ]
     },
     "execution_count": 42,
     "metadata": {},
     "output_type": "execute_result"
    }
   ],
   "source": [
    "Gamedata_1"
   ]
  },
  {
   "cell_type": "code",
   "execution_count": 47,
   "metadata": {},
   "outputs": [
    {
     "data": {
      "text/html": [
       "<div>\n",
       "<style scoped>\n",
       "    .dataframe tbody tr th:only-of-type {\n",
       "        vertical-align: middle;\n",
       "    }\n",
       "\n",
       "    .dataframe tbody tr th {\n",
       "        vertical-align: top;\n",
       "    }\n",
       "\n",
       "    .dataframe thead tr th {\n",
       "        text-align: left;\n",
       "    }\n",
       "\n",
       "    .dataframe thead tr:last-of-type th {\n",
       "        text-align: right;\n",
       "    }\n",
       "</style>\n",
       "<table border=\"1\" class=\"dataframe\">\n",
       "  <thead>\n",
       "    <tr>\n",
       "      <th>age</th>\n",
       "      <th colspan=\"2\" halign=\"left\">junior</th>\n",
       "      <th colspan=\"2\" halign=\"left\">youth</th>\n",
       "    </tr>\n",
       "    <tr>\n",
       "      <th>family_name</th>\n",
       "      <th>Zhang</th>\n",
       "      <th>Wang</th>\n",
       "      <th>Li</th>\n",
       "      <th>Zhao</th>\n",
       "    </tr>\n",
       "    <tr>\n",
       "      <th>series</th>\n",
       "      <th></th>\n",
       "      <th></th>\n",
       "      <th></th>\n",
       "      <th></th>\n",
       "    </tr>\n",
       "  </thead>\n",
       "  <tbody>\n",
       "    <tr>\n",
       "      <th>1</th>\n",
       "      <td>60</td>\n",
       "      <td>36</td>\n",
       "      <td>29</td>\n",
       "      <td>78</td>\n",
       "    </tr>\n",
       "    <tr>\n",
       "      <th>2</th>\n",
       "      <td>57</td>\n",
       "      <td>40</td>\n",
       "      <td>17</td>\n",
       "      <td>99</td>\n",
       "    </tr>\n",
       "    <tr>\n",
       "      <th>3</th>\n",
       "      <td>72</td>\n",
       "      <td>28</td>\n",
       "      <td>24</td>\n",
       "      <td>39</td>\n",
       "    </tr>\n",
       "  </tbody>\n",
       "</table>\n",
       "</div>"
      ],
      "text/plain": [
       "age         junior      youth     \n",
       "family_name  Zhang Wang    Li Zhao\n",
       "series                            \n",
       "1               60   36    29   78\n",
       "2               57   40    17   99\n",
       "3               72   28    24   39"
      ]
     },
     "execution_count": 47,
     "metadata": {},
     "output_type": "execute_result"
    }
   ],
   "source": [
    "Gamedata_1.sum(axis=0,level=1)"
   ]
  },
  {
   "cell_type": "code",
   "execution_count": 50,
   "metadata": {},
   "outputs": [
    {
     "data": {
      "text/html": [
       "<div>\n",
       "<style scoped>\n",
       "    .dataframe tbody tr th:only-of-type {\n",
       "        vertical-align: middle;\n",
       "    }\n",
       "\n",
       "    .dataframe tbody tr th {\n",
       "        vertical-align: top;\n",
       "    }\n",
       "\n",
       "    .dataframe thead tr th {\n",
       "        text-align: left;\n",
       "    }\n",
       "\n",
       "    .dataframe thead tr:last-of-type th {\n",
       "        text-align: right;\n",
       "    }\n",
       "</style>\n",
       "<table border=\"1\" class=\"dataframe\">\n",
       "  <thead>\n",
       "    <tr>\n",
       "      <th>age</th>\n",
       "      <th colspan=\"2\" halign=\"left\">junior</th>\n",
       "      <th colspan=\"2\" halign=\"left\">youth</th>\n",
       "    </tr>\n",
       "    <tr>\n",
       "      <th>family_name</th>\n",
       "      <th>Zhang</th>\n",
       "      <th>Wang</th>\n",
       "      <th>Li</th>\n",
       "      <th>Zhao</th>\n",
       "    </tr>\n",
       "    <tr>\n",
       "      <th>times</th>\n",
       "      <th></th>\n",
       "      <th></th>\n",
       "      <th></th>\n",
       "      <th></th>\n",
       "    </tr>\n",
       "  </thead>\n",
       "  <tbody>\n",
       "    <tr>\n",
       "      <th>morning</th>\n",
       "      <td>84</td>\n",
       "      <td>72</td>\n",
       "      <td>49</td>\n",
       "      <td>116</td>\n",
       "    </tr>\n",
       "    <tr>\n",
       "      <th>afternoon</th>\n",
       "      <td>105</td>\n",
       "      <td>32</td>\n",
       "      <td>21</td>\n",
       "      <td>100</td>\n",
       "    </tr>\n",
       "  </tbody>\n",
       "</table>\n",
       "</div>"
      ],
      "text/plain": [
       "age         junior      youth     \n",
       "family_name  Zhang Wang    Li Zhao\n",
       "times                             \n",
       "morning         84   72    49  116\n",
       "afternoon      105   32    21  100"
      ]
     },
     "execution_count": 50,
     "metadata": {},
     "output_type": "execute_result"
    }
   ],
   "source": [
    "Gamedata_1.sum(axis=0,level=0)"
   ]
  },
  {
   "cell_type": "code",
   "execution_count": 53,
   "metadata": {},
   "outputs": [
    {
     "data": {
      "text/html": [
       "<div>\n",
       "<style scoped>\n",
       "    .dataframe tbody tr th:only-of-type {\n",
       "        vertical-align: middle;\n",
       "    }\n",
       "\n",
       "    .dataframe tbody tr th {\n",
       "        vertical-align: top;\n",
       "    }\n",
       "\n",
       "    .dataframe thead th {\n",
       "        text-align: right;\n",
       "    }\n",
       "</style>\n",
       "<table border=\"1\" class=\"dataframe\">\n",
       "  <thead>\n",
       "    <tr style=\"text-align: right;\">\n",
       "      <th></th>\n",
       "      <th>age</th>\n",
       "      <th>junior</th>\n",
       "      <th>youth</th>\n",
       "    </tr>\n",
       "    <tr>\n",
       "      <th>times</th>\n",
       "      <th>series</th>\n",
       "      <th></th>\n",
       "      <th></th>\n",
       "    </tr>\n",
       "  </thead>\n",
       "  <tbody>\n",
       "    <tr>\n",
       "      <th rowspan=\"3\" valign=\"top\">morning</th>\n",
       "      <th>1</th>\n",
       "      <td>58</td>\n",
       "      <td>84</td>\n",
       "    </tr>\n",
       "    <tr>\n",
       "      <th>2</th>\n",
       "      <td>54</td>\n",
       "      <td>42</td>\n",
       "    </tr>\n",
       "    <tr>\n",
       "      <th>3</th>\n",
       "      <td>44</td>\n",
       "      <td>39</td>\n",
       "    </tr>\n",
       "    <tr>\n",
       "      <th rowspan=\"3\" valign=\"top\">afternoon</th>\n",
       "      <th>1</th>\n",
       "      <td>38</td>\n",
       "      <td>23</td>\n",
       "    </tr>\n",
       "    <tr>\n",
       "      <th>2</th>\n",
       "      <td>43</td>\n",
       "      <td>74</td>\n",
       "    </tr>\n",
       "    <tr>\n",
       "      <th>3</th>\n",
       "      <td>56</td>\n",
       "      <td>24</td>\n",
       "    </tr>\n",
       "  </tbody>\n",
       "</table>\n",
       "</div>"
      ],
      "text/plain": [
       "age               junior  youth\n",
       "times     series               \n",
       "morning   1           58     84\n",
       "          2           54     42\n",
       "          3           44     39\n",
       "afternoon 1           38     23\n",
       "          2           43     74\n",
       "          3           56     24"
      ]
     },
     "execution_count": 53,
     "metadata": {},
     "output_type": "execute_result"
    }
   ],
   "source": [
    "Gamedata_1.sum(axis=1,level=0)"
   ]
  },
  {
   "cell_type": "markdown",
   "metadata": {},
   "source": [
    "# 水平拼接 hstack"
   ]
  },
  {
   "cell_type": "code",
   "execution_count": 59,
   "metadata": {},
   "outputs": [],
   "source": [
    "data1=np.random.randint(1,5,10)\n",
    "data2=np.random.randint(10,50,10)"
   ]
  },
  {
   "cell_type": "code",
   "execution_count": 60,
   "metadata": {},
   "outputs": [
    {
     "data": {
      "text/plain": [
       "array([ 4,  1,  3,  3,  1,  2,  2,  1,  1,  3, 49, 10, 41, 32, 37, 25, 42,\n",
       "       30, 21, 21])"
      ]
     },
     "execution_count": 60,
     "metadata": {},
     "output_type": "execute_result"
    }
   ],
   "source": [
    "data=np.hstack([data1,data2])\n",
    "data"
   ]
  },
  {
   "cell_type": "code",
   "execution_count": null,
   "metadata": {},
   "outputs": [],
   "source": [
    "# 两个二维数组需要行数相同"
   ]
  },
  {
   "cell_type": "markdown",
   "metadata": {},
   "source": [
    "# 竖直拼接 vstack"
   ]
  },
  {
   "cell_type": "code",
   "execution_count": 64,
   "metadata": {},
   "outputs": [
    {
     "data": {
      "text/plain": [
       "array([[ 2,  1,  3,  1,  1,  2,  3,  2,  1,  1],\n",
       "       [40, 10, 27, 30, 38, 23, 45, 19, 20, 47]])"
      ]
     },
     "execution_count": 64,
     "metadata": {},
     "output_type": "execute_result"
    }
   ],
   "source": [
    "data1=np.random.randint(1,5,10)\n",
    "data2=np.random.randint(10,50,10)\n",
    "data=np.vstack([data1,data2])\n",
    "data"
   ]
  },
  {
   "cell_type": "code",
   "execution_count": null,
   "metadata": {},
   "outputs": [],
   "source": [
    "# 两个二维数组需要列数相同"
   ]
  },
  {
   "cell_type": "code",
   "execution_count": 69,
   "metadata": {},
   "outputs": [
    {
     "data": {
      "text/plain": [
       "[array([[3.40431751, 9.87899661, 5.76275094, 3.96174016, 6.88304882,\n",
       "         6.46419328, 7.78348729],\n",
       "        [8.37457162, 4.50932501, 4.32823038, 9.38103881, 8.79004299,\n",
       "         9.46494844, 7.141208  ]]),\n",
       " array([[4.25361425, 2.42703708, 2.96820296, 8.07610376, 8.88305824,\n",
       "         9.72470152, 9.58717966],\n",
       "        [9.85925115, 6.20813477, 2.15441194, 5.51538644, 7.08002603,\n",
       "         2.50338191, 8.49306338],\n",
       "        [3.03856255, 8.75083916, 6.32927659, 9.34014299, 3.8682592 ,\n",
       "         6.41267618, 8.31571695]]),\n",
       " array([[5.61912653, 4.84502754, 7.29129394, 6.55483754, 8.21975736,\n",
       "         6.90482505, 4.67615269],\n",
       "        [9.85633476, 4.16458178, 7.73616994, 3.86519923, 6.24814339,\n",
       "         6.13583094, 6.0645883 ],\n",
       "        [8.17112017, 2.28571188, 5.30897609, 4.51398297, 5.82135778,\n",
       "         9.17772446, 8.58464586],\n",
       "        [5.00359435, 4.55237173, 5.77831547, 3.78256412, 5.14784293,\n",
       "         6.62824383, 8.36735591]])]"
      ]
     },
     "execution_count": 69,
     "metadata": {},
     "output_type": "execute_result"
    }
   ],
   "source": [
    "argroup=[np.random.uniform(2,10,(j,7)) for j in range(2,5)]\n",
    "argroup"
   ]
  },
  {
   "cell_type": "code",
   "execution_count": 70,
   "metadata": {},
   "outputs": [
    {
     "data": {
      "text/plain": [
       "array([[3.40431751, 9.87899661, 5.76275094, 3.96174016, 6.88304882,\n",
       "        6.46419328, 7.78348729],\n",
       "       [8.37457162, 4.50932501, 4.32823038, 9.38103881, 8.79004299,\n",
       "        9.46494844, 7.141208  ],\n",
       "       [4.25361425, 2.42703708, 2.96820296, 8.07610376, 8.88305824,\n",
       "        9.72470152, 9.58717966],\n",
       "       [9.85925115, 6.20813477, 2.15441194, 5.51538644, 7.08002603,\n",
       "        2.50338191, 8.49306338],\n",
       "       [3.03856255, 8.75083916, 6.32927659, 9.34014299, 3.8682592 ,\n",
       "        6.41267618, 8.31571695],\n",
       "       [5.61912653, 4.84502754, 7.29129394, 6.55483754, 8.21975736,\n",
       "        6.90482505, 4.67615269],\n",
       "       [9.85633476, 4.16458178, 7.73616994, 3.86519923, 6.24814339,\n",
       "        6.13583094, 6.0645883 ],\n",
       "       [8.17112017, 2.28571188, 5.30897609, 4.51398297, 5.82135778,\n",
       "        9.17772446, 8.58464586],\n",
       "       [5.00359435, 4.55237173, 5.77831547, 3.78256412, 5.14784293,\n",
       "        6.62824383, 8.36735591]])"
      ]
     },
     "execution_count": 70,
     "metadata": {},
     "output_type": "execute_result"
    }
   ],
   "source": [
    "np.vstack(argroup)"
   ]
  },
  {
   "cell_type": "markdown",
   "metadata": {},
   "source": [
    "# concatenate"
   ]
  },
  {
   "cell_type": "code",
   "execution_count": 75,
   "metadata": {},
   "outputs": [
    {
     "data": {
      "text/plain": [
       "array([ 4,  1,  4,  1,  4,  3,  3,  1,  2,  4, 28, 45, 28, 18, 46, 16, 39,\n",
       "       21, 43, 27])"
      ]
     },
     "execution_count": 75,
     "metadata": {},
     "output_type": "execute_result"
    }
   ],
   "source": [
    "data1=np.random.randint(1,5,10)\n",
    "data2=np.random.randint(10,50,10)\n",
    "np.concatenate([data1,data2])"
   ]
  },
  {
   "cell_type": "code",
   "execution_count": 76,
   "metadata": {},
   "outputs": [],
   "source": [
    "# concatenate要求必须拼接的对象维度相同"
   ]
  },
  {
   "cell_type": "markdown",
   "metadata": {},
   "source": [
    "# column_stack row_stack"
   ]
  },
  {
   "cell_type": "code",
   "execution_count": 77,
   "metadata": {},
   "outputs": [
    {
     "data": {
      "text/plain": [
       "[array([ 6,  9,  7, 10,  4,  4]),\n",
       " array([ 3, 10,  6,  4,  2,  4]),\n",
       " array([10,  5,  9,  4,  6,  1]),\n",
       " array([ 9,  7,  6,  3,  5, 10]),\n",
       " array([ 9,  7,  9,  4,  8, 10])]"
      ]
     },
     "execution_count": 77,
     "metadata": {},
     "output_type": "execute_result"
    }
   ],
   "source": [
    "s1=[np.random.randint(1,11,6) for j in range(5)]\n",
    "s1"
   ]
  },
  {
   "cell_type": "code",
   "execution_count": 78,
   "metadata": {},
   "outputs": [
    {
     "data": {
      "text/plain": [
       "array([[ 6, 10],\n",
       "       [ 9,  5],\n",
       "       [ 7,  9],\n",
       "       [10,  4],\n",
       "       [ 4,  6],\n",
       "       [ 4,  1]])"
      ]
     },
     "execution_count": 78,
     "metadata": {},
     "output_type": "execute_result"
    }
   ],
   "source": [
    "np.column_stack([s1[0],s1[2]]) #把一维数组作为列拼接"
   ]
  },
  {
   "cell_type": "code",
   "execution_count": 79,
   "metadata": {},
   "outputs": [
    {
     "data": {
      "text/plain": [
       "[array([], shape=(8, 0), dtype=int64),\n",
       " array([[ 5],\n",
       "        [ 6],\n",
       "        [10],\n",
       "        [ 4],\n",
       "        [ 5],\n",
       "        [ 2],\n",
       "        [ 5],\n",
       "        [ 2]]),\n",
       " array([[ 6,  3],\n",
       "        [ 9, 11],\n",
       "        [ 2,  8],\n",
       "        [ 4,  3],\n",
       "        [10,  7],\n",
       "        [ 9,  8],\n",
       "        [ 2, 10],\n",
       "        [ 7,  7]]),\n",
       " array([[ 7,  4, 11],\n",
       "        [ 8, 10,  2],\n",
       "        [ 9,  3,  7],\n",
       "        [ 6,  5,  7],\n",
       "        [11,  7,  6],\n",
       "        [11,  6,  8],\n",
       "        [ 9,  7,  4],\n",
       "        [10,  4,  4]]),\n",
       " array([[10,  7,  2, 10],\n",
       "        [10, 11,  9,  3],\n",
       "        [ 7, 10,  6,  9],\n",
       "        [10,  9,  4, 11],\n",
       "        [ 8,  7, 10,  4],\n",
       "        [ 2,  4,  8, 11],\n",
       "        [ 8,  8,  8,  5],\n",
       "        [ 9,  7,  8,  3]])]"
      ]
     },
     "execution_count": 79,
     "metadata": {},
     "output_type": "execute_result"
    }
   ],
   "source": [
    "s2=[np.random.randint(2,12,(8,j)) for j in range(5)]\n",
    "s2"
   ]
  },
  {
   "cell_type": "code",
   "execution_count": 86,
   "metadata": {},
   "outputs": [
    {
     "data": {
      "text/plain": [
       "array([[ 5,  6,  3,  7,  4, 11, 10,  7,  2, 10],\n",
       "       [ 6,  9, 11,  8, 10,  2, 10, 11,  9,  3],\n",
       "       [10,  2,  8,  9,  3,  7,  7, 10,  6,  9],\n",
       "       [ 4,  4,  3,  6,  5,  7, 10,  9,  4, 11],\n",
       "       [ 5, 10,  7, 11,  7,  6,  8,  7, 10,  4],\n",
       "       [ 2,  9,  8, 11,  6,  8,  2,  4,  8, 11],\n",
       "       [ 5,  2, 10,  9,  7,  4,  8,  8,  8,  5],\n",
       "       [ 2,  7,  7, 10,  4,  4,  9,  7,  8,  3]])"
      ]
     },
     "execution_count": 86,
     "metadata": {},
     "output_type": "execute_result"
    }
   ],
   "source": [
    "np.column_stack(s2)"
   ]
  },
  {
   "cell_type": "code",
   "execution_count": 85,
   "metadata": {},
   "outputs": [
    {
     "data": {
      "text/plain": [
       "array([[ 5,  6,  3,  7,  4, 11, 10,  7,  2, 10],\n",
       "       [ 6,  9, 11,  8, 10,  2, 10, 11,  9,  3],\n",
       "       [10,  2,  8,  9,  3,  7,  7, 10,  6,  9],\n",
       "       [ 4,  4,  3,  6,  5,  7, 10,  9,  4, 11],\n",
       "       [ 5, 10,  7, 11,  7,  6,  8,  7, 10,  4],\n",
       "       [ 2,  9,  8, 11,  6,  8,  2,  4,  8, 11],\n",
       "       [ 5,  2, 10,  9,  7,  4,  8,  8,  8,  5],\n",
       "       [ 2,  7,  7, 10,  4,  4,  9,  7,  8,  3]])"
      ]
     },
     "execution_count": 85,
     "metadata": {},
     "output_type": "execute_result"
    }
   ],
   "source": [
    "np.hstack(s2)"
   ]
  },
  {
   "cell_type": "markdown",
   "metadata": {},
   "source": [
    "# 二维与一维拼接"
   ]
  },
  {
   "cell_type": "code",
   "execution_count": 89,
   "metadata": {},
   "outputs": [
    {
     "data": {
      "text/plain": [
       "(array([[19, 14, 11, 14, 13],\n",
       "        [18, 13, 16, 11, 12],\n",
       "        [18, 16, 17, 10, 15],\n",
       "        [16, 15, 17, 18, 14],\n",
       "        [11, 15, 18, 11, 19],\n",
       "        [12, 11, 13, 17, 18],\n",
       "        [19, 10, 15, 19, 13],\n",
       "        [11, 16, 11, 11, 16]]),\n",
       " array([36, 30, 32, 37, 36, 33, 35, 39]))"
      ]
     },
     "execution_count": 89,
     "metadata": {},
     "output_type": "execute_result"
    }
   ],
   "source": [
    "ar123=np.random.randint(10,20,(8,5))\n",
    "ar_1dim=np.random.randint(30,40,8)\n",
    "ar123,ar_1dim"
   ]
  },
  {
   "cell_type": "code",
   "execution_count": 93,
   "metadata": {},
   "outputs": [
    {
     "data": {
      "text/plain": [
       "array([[19, 14, 11, 14, 13, 36],\n",
       "       [18, 13, 16, 11, 12, 30],\n",
       "       [18, 16, 17, 10, 15, 32],\n",
       "       [16, 15, 17, 18, 14, 37],\n",
       "       [11, 15, 18, 11, 19, 36],\n",
       "       [12, 11, 13, 17, 18, 33],\n",
       "       [19, 10, 15, 19, 13, 35],\n",
       "       [11, 16, 11, 11, 16, 39]])"
      ]
     },
     "execution_count": 93,
     "metadata": {},
     "output_type": "execute_result"
    }
   ],
   "source": [
    "np.hstack([ar123,ar_1dim.reshape(8,1)])"
   ]
  },
  {
   "cell_type": "code",
   "execution_count": 94,
   "metadata": {},
   "outputs": [
    {
     "data": {
      "text/plain": [
       "array([[19, 14, 11, 14, 13, 36],\n",
       "       [18, 13, 16, 11, 12, 30],\n",
       "       [18, 16, 17, 10, 15, 32],\n",
       "       [16, 15, 17, 18, 14, 37],\n",
       "       [11, 15, 18, 11, 19, 36],\n",
       "       [12, 11, 13, 17, 18, 33],\n",
       "       [19, 10, 15, 19, 13, 35],\n",
       "       [11, 16, 11, 11, 16, 39]])"
      ]
     },
     "execution_count": 94,
     "metadata": {},
     "output_type": "execute_result"
    }
   ],
   "source": [
    "np.column_stack([ar123,ar_1dim])"
   ]
  },
  {
   "cell_type": "markdown",
   "metadata": {},
   "source": [
    "# 数据分割"
   ]
  },
  {
   "cell_type": "markdown",
   "metadata": {},
   "source": [
    "## hsplit和vsplit"
   ]
  },
  {
   "cell_type": "code",
   "execution_count": 95,
   "metadata": {},
   "outputs": [
    {
     "data": {
      "text/plain": [
       "array([[20, 30, 23, 24, 27, 21, 28, 24],\n",
       "       [21, 23, 21, 24, 23, 30, 25, 29],\n",
       "       [26, 22, 24, 22, 28, 30, 23, 30],\n",
       "       [27, 26, 29, 24, 30, 24, 25, 20],\n",
       "       [26, 23, 22, 22, 24, 25, 23, 22],\n",
       "       [27, 20, 20, 24, 25, 24, 26, 30]])"
      ]
     },
     "execution_count": 95,
     "metadata": {},
     "output_type": "execute_result"
    }
   ],
   "source": [
    "ar30=np.random.randint(20,31,(6,8))\n",
    "ar30"
   ]
  },
  {
   "cell_type": "code",
   "execution_count": 97,
   "metadata": {},
   "outputs": [
    {
     "data": {
      "text/plain": [
       "[array([[20, 30, 23, 24],\n",
       "        [21, 23, 21, 24],\n",
       "        [26, 22, 24, 22],\n",
       "        [27, 26, 29, 24],\n",
       "        [26, 23, 22, 22],\n",
       "        [27, 20, 20, 24]]),\n",
       " array([[27, 21, 28, 24],\n",
       "        [23, 30, 25, 29],\n",
       "        [28, 30, 23, 30],\n",
       "        [30, 24, 25, 20],\n",
       "        [24, 25, 23, 22],\n",
       "        [25, 24, 26, 30]])]"
      ]
     },
     "execution_count": 97,
     "metadata": {},
     "output_type": "execute_result"
    }
   ],
   "source": [
    "np.hsplit(ar30,2)"
   ]
  },
  {
   "cell_type": "code",
   "execution_count": 98,
   "metadata": {},
   "outputs": [
    {
     "data": {
      "text/plain": [
       "[array([[20, 30, 23, 24, 27, 21, 28, 24],\n",
       "        [21, 23, 21, 24, 23, 30, 25, 29],\n",
       "        [26, 22, 24, 22, 28, 30, 23, 30]]),\n",
       " array([[27, 26, 29, 24, 30, 24, 25, 20],\n",
       "        [26, 23, 22, 22, 24, 25, 23, 22],\n",
       "        [27, 20, 20, 24, 25, 24, 26, 30]])]"
      ]
     },
     "execution_count": 98,
     "metadata": {},
     "output_type": "execute_result"
    }
   ],
   "source": [
    "np.vsplit(ar30,2)"
   ]
  },
  {
   "cell_type": "code",
   "execution_count": 100,
   "metadata": {},
   "outputs": [
    {
     "data": {
      "text/plain": [
       "[array([[20, 30, 23, 24, 27, 21, 28, 24],\n",
       "        [21, 23, 21, 24, 23, 30, 25, 29],\n",
       "        [26, 22, 24, 22, 28, 30, 23, 30]]),\n",
       " array([[27, 26, 29, 24, 30, 24, 25, 20],\n",
       "        [26, 23, 22, 22, 24, 25, 23, 22],\n",
       "        [27, 20, 20, 24, 25, 24, 26, 30]])]"
      ]
     },
     "execution_count": 100,
     "metadata": {},
     "output_type": "execute_result"
    }
   ],
   "source": [
    "np.split(ar30,2,axis=0)"
   ]
  },
  {
   "cell_type": "code",
   "execution_count": 101,
   "metadata": {},
   "outputs": [
    {
     "data": {
      "text/plain": [
       "[array([[20, 30, 23, 24],\n",
       "        [21, 23, 21, 24],\n",
       "        [26, 22, 24, 22],\n",
       "        [27, 26, 29, 24],\n",
       "        [26, 23, 22, 22],\n",
       "        [27, 20, 20, 24]]),\n",
       " array([[27, 21, 28, 24],\n",
       "        [23, 30, 25, 29],\n",
       "        [28, 30, 23, 30],\n",
       "        [30, 24, 25, 20],\n",
       "        [24, 25, 23, 22],\n",
       "        [25, 24, 26, 30]])]"
      ]
     },
     "execution_count": 101,
     "metadata": {},
     "output_type": "execute_result"
    }
   ],
   "source": [
    "np.split(ar30,2,axis=1)"
   ]
  },
  {
   "cell_type": "code",
   "execution_count": null,
   "metadata": {},
   "outputs": [],
   "source": []
  }
 ],
 "metadata": {
  "kernelspec": {
   "display_name": "Python 3",
   "language": "python",
   "name": "python3"
  },
  "language_info": {
   "codemirror_mode": {
    "name": "ipython",
    "version": 3
   },
   "file_extension": ".py",
   "mimetype": "text/x-python",
   "name": "python",
   "nbconvert_exporter": "python",
   "pygments_lexer": "ipython3",
   "version": "3.7.6"
  }
 },
 "nbformat": 4,
 "nbformat_minor": 4
}
