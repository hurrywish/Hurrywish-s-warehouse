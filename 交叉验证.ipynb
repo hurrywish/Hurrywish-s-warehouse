{
 "cells": [
  {
   "cell_type": "code",
   "execution_count": 19,
   "metadata": {},
   "outputs": [],
   "source": [
    "import numpy as np\n",
    "import pandas as pd\n",
    "from sklearn.model_selection import ShuffleSplit,LeavePGroupsOut"
   ]
  },
  {
   "cell_type": "markdown",
   "metadata": {},
   "source": [
    "## 随机排列交叉验证"
   ]
  },
  {
   "cell_type": "code",
   "execution_count": 3,
   "metadata": {},
   "outputs": [
    {
     "data": {
      "text/plain": [
       "array([0, 1, 2, 3, 4, 5, 6, 7, 8, 9])"
      ]
     },
     "execution_count": 3,
     "metadata": {},
     "output_type": "execute_result"
    }
   ],
   "source": [
    "X=np.arange(10)\n",
    "X"
   ]
  },
  {
   "cell_type": "code",
   "execution_count": 6,
   "metadata": {},
   "outputs": [
    {
     "name": "stdout",
     "output_type": "stream",
     "text": [
      "(array([6, 4, 0, 3, 1, 7, 8, 5]), array([2, 9])) (array([3, 0, 8, 4, 2, 1, 6, 7]), array([9, 5]))\n"
     ]
    }
   ],
   "source": [
    "s=ShuffleSplit(n_splits=2,test_size=0.2,random_state=1)\n",
    "train,test=s.split(X)\n",
    "print(train,test)"
   ]
  },
  {
   "cell_type": "markdown",
   "metadata": {},
   "source": [
    "## 分层K交叉验证"
   ]
  },
  {
   "cell_type": "code",
   "execution_count": 33,
   "metadata": {},
   "outputs": [
    {
     "name": "stdout",
     "output_type": "stream",
     "text": [
      "[2 3 6 7 8 9] [0 1 4 5]\n",
      "[0 1 3 4 5 8 9] [2 6 7]\n",
      "[0 1 2 4 5 6 7] [3 8 9]\n"
     ]
    }
   ],
   "source": [
    "from sklearn.model_selection import StratifiedKFold\n",
    "\n",
    "X=np.ones(10)\n",
    "Y=[0,0,0,0,1,1,1,1,1,1]\n",
    "skf=StratifiedKFold(n_splits=3,shuffle=False)\n",
    "for train_index,test_index in skf.split(X,Y):\n",
    "    print(train_index,test_index)"
   ]
  },
  {
   "cell_type": "code",
   "execution_count": 24,
   "metadata": {},
   "outputs": [
    {
     "name": "stdout",
     "output_type": "stream",
     "text": [
      "[0 1 2 3 4 5] [2 1 3 4 3 2] [1, 1, 2, 2, 3, 3]\n",
      "[2 3 4 5] [0 1]\n",
      "[0 1 4 5] [2 3]\n",
      "[0 1 2 3] [4 5]\n"
     ]
    }
   ],
   "source": [
    "X=np.arange(6)\n",
    "Y=np.random.randint(1,5,6)\n",
    "Z=[1,1,2,2,3,3]\n",
    "print(X,Y,Z)\n",
    "lpgo=LeavePGroupsOut(n_groups=1)\n",
    "for train_index,test_index in lpgo.split(X,Y,groups=Z): #输出的全是index\n",
    "    print(train_index,test_index)"
   ]
  },
  {
   "cell_type": "markdown",
   "metadata": {},
   "source": [
    "## 时间序列分割"
   ]
  },
  {
   "cell_type": "code",
   "execution_count": 34,
   "metadata": {},
   "outputs": [
    {
     "name": "stdout",
     "output_type": "stream",
     "text": [
      "[0 1] [2 3]\n",
      "[1 2 3] [4 5]\n",
      "[3 4 5] [6 7]\n"
     ]
    }
   ],
   "source": [
    "from sklearn.model_selection import TimeSeriesSplit\n",
    "\n",
    "X=np.array([[1,2],\n",
    "            [3,4],\n",
    "            [1,2],\n",
    "            [3,4],\n",
    "            [1,2],\n",
    "            [3,4],\n",
    "            [2,2],\n",
    "            [4,6]\n",
    "           ])\n",
    "Y=np.arange(1,9)\n",
    "\n",
    "tscv=TimeSeriesSplit(n_splits=3,max_train_size=3)\n",
    "for train_index,test_index in tscv.split(X,Y):\n",
    "    print(train_index,test_index)"
   ]
  },
  {
   "cell_type": "markdown",
   "metadata": {},
   "source": [
    "## 交叉验证综合评分"
   ]
  },
  {
   "cell_type": "code",
   "execution_count": 41,
   "metadata": {},
   "outputs": [
    {
     "name": "stdout",
     "output_type": "stream",
     "text": [
      "[0.96666667 1.         0.96666667 0.96666667 1.        ]\n",
      "Accuracy:0.98(+/-)0.03 %\n"
     ]
    }
   ],
   "source": [
    "from sklearn.model_selection import cross_val_score\n",
    "from sklearn.svm import SVC\n",
    "from sklearn import datasets\n",
    "iris=datasets.load_iris()\n",
    "clf=SVC(kernel='linear')\n",
    "scores=cross_val_score(clf,iris.data,iris.target,cv=5) #5折交叉验证\n",
    "print(scores)\n",
    "print(r'Accuracy:%0.2f(+/-)%0.2f %%'%(scores.mean(),scores.std()*2))"
   ]
  },
  {
   "cell_type": "code",
   "execution_count": 43,
   "metadata": {},
   "outputs": [
    {
     "data": {
      "text/plain": [
       "array([1.  , 0.96, 1.  ])"
      ]
     },
     "execution_count": 43,
     "metadata": {},
     "output_type": "execute_result"
    }
   ],
   "source": [
    "#通过传入验证迭代器来指定验证策略\n",
    "\n",
    "from sklearn.model_selection import ShuffleSplit\n",
    "\n",
    "n_samples=iris.data.shape[0]\n",
    "ss=ShuffleSplit(n_splits=3,test_size=1/3,random_state=1)\n",
    "cross_val_score(clf,iris.data,iris.target,cv=ss)"
   ]
  },
  {
   "cell_type": "code",
   "execution_count": 44,
   "metadata": {},
   "outputs": [
    {
     "name": "stdout",
     "output_type": "stream",
     "text": [
      "{'fit_time': array([0.00075698, 0.00054288, 0.0004859 ]), 'score_time': array([0.0018661 , 0.00135779, 0.00133133]), 'test_f1_macro': array([1.        , 1.        , 0.98037518]), 'test_f1_micro': array([1.  , 1.  , 0.98])}\n"
     ]
    }
   ],
   "source": [
    "#corss_validate和cross_val_score相似但更强大，可以返回fit_time和score_time\n",
    "\n",
    "from sklearn.model_selection import cross_validate\n",
    "from sklearn.metrics import recall_score\n",
    "\n",
    "scores=cross_validate(clf,iris.data,iris.target,scoring=['f1_macro','f1_micro'],cv=3,return_train_score=False)\n",
    "print(scores)\n"
   ]
  },
  {
   "cell_type": "code",
   "execution_count": null,
   "metadata": {},
   "outputs": [],
   "source": [
    "from sklearn.linear_model import ElasticNetCV,LogisticRegressionCV,RidgeClassifierCV\n"
   ]
  }
 ],
 "metadata": {
  "kernelspec": {
   "display_name": "Python 3",
   "language": "python",
   "name": "python3"
  },
  "language_info": {
   "codemirror_mode": {
    "name": "ipython",
    "version": 3
   },
   "file_extension": ".py",
   "mimetype": "text/x-python",
   "name": "python",
   "nbconvert_exporter": "python",
   "pygments_lexer": "ipython3",
   "version": "3.7.6"
  }
 },
 "nbformat": 4,
 "nbformat_minor": 4
}
