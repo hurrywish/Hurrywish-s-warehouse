{
 "cells": [
  {
   "cell_type": "code",
   "execution_count": 14,
   "metadata": {},
   "outputs": [],
   "source": [
    "from sklearn.model_selection import GridSearchCV,ShuffleSplit,ParameterSampler,RandomizedSearchCV\n",
    "from sklearn.svm import SVC\n",
    "from sklearn.datasets import load_iris\n",
    "from scipy.stats.distributions import expon\n",
    "import numpy as np\n",
    "import pandas as pd"
   ]
  },
  {
   "cell_type": "markdown",
   "metadata": {},
   "source": [
    "## 网格搜索法"
   ]
  },
  {
   "cell_type": "code",
   "execution_count": 9,
   "metadata": {},
   "outputs": [
    {
     "name": "stdout",
     "output_type": "stream",
     "text": [
      "[0 0 0 0 0 0 0 0 0 0 0 0 0 0 0 0 0 0 0 0 0 0 0 0 0 0 0 0 0 0 0 0 0 0 0 0 0\n",
      " 0 0 0 0 0 0 0 0 0 0 0 0 0 1 1 1 1 1 1 1 1 1 1 1 1 1 1 1 1 1 1 1 1 1 1 1 1\n",
      " 1 1 1 1 1 1 1 1 1 2 1 1 1 1 1 1 1 1 1 1 1 1 1 1 1 1 2 2 2 2 2 2 2 2 2 2 2\n",
      " 2 2 2 2 2 2 2 2 2 2 2 2 2 2 2 2 2 2 2 2 2 2 2 2 2 2 2 2 2 2 2 2 2 2 2 2 2\n",
      " 2 2]\n"
     ]
    },
    {
     "data": {
      "text/plain": [
       "{'C': 1, 'kernel': 'linear'}"
      ]
     },
     "execution_count": 9,
     "metadata": {},
     "output_type": "execute_result"
    }
   ],
   "source": [
    "iris=load_iris()\n",
    "svc=SVC()\n",
    "\n",
    "#超参数空间\n",
    "param_grid=[\n",
    "    {'C':[1,10,100,1000],'kernel':['linear']},\n",
    "    {'C':[1,10,100,1000],'gamma':[0.001,0.0001],'kernel':['rbf']}\n",
    "]\n",
    "\n",
    "#交叉验证方案\n",
    "cv=ShuffleSplit(n_splits=10,test_size=3,random_state=1)\n",
    "\n",
    "#打分函数\n",
    "scoring='accuracy'\n",
    "\n",
    "#指定搜索或采样方法\n",
    "clf=GridSearchCV(svc,param_grid,scoring=scoring,cv=cv)\n",
    "clf.fit(iris.data,iris.target)\n",
    "\n",
    "print(clf.predict(iris.data))\n",
    "\n",
    "clf.get_params() #查看全部参数\n",
    "clf.best_params_ #查看优化参数"
   ]
  },
  {
   "cell_type": "markdown",
   "metadata": {},
   "source": [
    "## 随机搜索法"
   ]
  },
  {
   "cell_type": "code",
   "execution_count": 29,
   "metadata": {},
   "outputs": [
    {
     "data": {
      "text/plain": [
       "{'C': 1, 'gamma': 0.09688387165373345, 'kernel': 'rbf'}"
      ]
     },
     "execution_count": 29,
     "metadata": {},
     "output_type": "execute_result"
    }
   ],
   "source": [
    "np.random.seed(1)\n",
    "\n",
    "param_distributions={'C':[1,10,100,1000],\n",
    "                     'gamma':expon(),\n",
    "                     'kernel':['rbf']\n",
    "                    }\n",
    "\n",
    "\n",
    "cv=ShuffleSplit(n_splits=10,test_size=3,random_state=1)\n",
    "\n",
    "scoring='accuracy'\n",
    "\n",
    "clf=RandomizedSearchCV(svc,param_distributions=param_distributions,scoring=scoring,cv=cv,n_iter=10)\n",
    "clf.fit(iris.data,iris.target)\n",
    "clf.get_params() #查看全部参数\n",
    "clf.best_params_ #查看优化参数"
   ]
  },
  {
   "cell_type": "code",
   "execution_count": 24,
   "metadata": {},
   "outputs": [],
   "source": [
    "RandomizedSearchCV?"
   ]
  },
  {
   "cell_type": "code",
   "execution_count": null,
   "metadata": {},
   "outputs": [],
   "source": []
  }
 ],
 "metadata": {
  "kernelspec": {
   "display_name": "Python 3",
   "language": "python",
   "name": "python3"
  },
  "language_info": {
   "codemirror_mode": {
    "name": "ipython",
    "version": 3
   },
   "file_extension": ".py",
   "mimetype": "text/x-python",
   "name": "python",
   "nbconvert_exporter": "python",
   "pygments_lexer": "ipython3",
   "version": "3.7.6"
  }
 },
 "nbformat": 4,
 "nbformat_minor": 4
}
