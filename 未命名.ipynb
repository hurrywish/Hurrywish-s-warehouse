{
 "cells": [
  {
   "cell_type": "code",
   "execution_count": 26,
   "metadata": {},
   "outputs": [],
   "source": [
    "import numpy as np\n",
    "import pandas as pd\n",
    "import matplotlib.pyplot as plt"
   ]
  },
  {
   "cell_type": "code",
   "execution_count": 7,
   "metadata": {},
   "outputs": [],
   "source": [
    "data=np.array([[1,2,3,4],[4,5,6,7],[8,9,10,11]])"
   ]
  },
  {
   "cell_type": "code",
   "execution_count": 8,
   "metadata": {},
   "outputs": [
    {
     "data": {
      "text/plain": [
       "array([[ 1,  2,  3,  4],\n",
       "       [ 4,  5,  6,  7],\n",
       "       [ 8,  9, 10, 11]])"
      ]
     },
     "execution_count": 8,
     "metadata": {},
     "output_type": "execute_result"
    }
   ],
   "source": [
    "data"
   ]
  },
  {
   "cell_type": "code",
   "execution_count": 11,
   "metadata": {},
   "outputs": [],
   "source": [
    "data_sum=np.sum(data,axis=0)"
   ]
  },
  {
   "cell_type": "code",
   "execution_count": 12,
   "metadata": {},
   "outputs": [
    {
     "data": {
      "text/plain": [
       "array([13, 16, 19, 22])"
      ]
     },
     "execution_count": 12,
     "metadata": {},
     "output_type": "execute_result"
    }
   ],
   "source": [
    "data_sum"
   ]
  },
  {
   "cell_type": "code",
   "execution_count": 47,
   "metadata": {},
   "outputs": [],
   "source": [
    "data_random=np.array(np.random.randn(100).reshape(5,20))"
   ]
  },
  {
   "cell_type": "code",
   "execution_count": 14,
   "metadata": {},
   "outputs": [
    {
     "data": {
      "text/plain": [
       "array([[ 1.16070469,  0.68966268, -0.76982907,  2.10100283, -0.94871306,\n",
       "        -1.01824908, -0.8856595 ,  1.48721405, -0.3291358 , -1.5763291 ,\n",
       "        -0.28756273, -1.86183854, -1.00527357,  0.60920245, -0.04320955,\n",
       "        -0.21538062,  1.20734807,  0.52243114,  0.85439155,  1.36411594],\n",
       "       [-1.38626769,  0.12018983,  0.34339538, -1.62961414,  0.33017113,\n",
       "        -1.02819919,  1.12007283,  1.41395047, -0.18953839, -0.95977071,\n",
       "         0.41681509,  1.49682513,  0.74528368,  0.0840133 , -0.52779654,\n",
       "        -2.26890885,  0.77470974, -0.23562418, -0.59304806,  1.42785969],\n",
       "       [-1.28178017,  0.44666347, -0.6401552 , -0.10044986, -0.90554826,\n",
       "        -0.01270384,  0.11670574, -0.1180591 , -0.61112303, -0.50487592,\n",
       "         2.50473856, -1.58775625, -0.30239824,  1.07856545,  0.93442154,\n",
       "        -0.79919768,  1.68482729,  0.03457902,  0.24235359,  0.05163933],\n",
       "       [ 0.61760546, -1.15349685,  0.13959796, -1.97741055,  1.04553113,\n",
       "         1.27365045,  0.87441393,  0.11016346,  0.14400755, -0.54686674,\n",
       "         0.31277388,  0.61105121, -2.06964663, -0.57191715, -0.88560808,\n",
       "        -0.54736418,  0.34537535, -0.29513619,  0.54506676, -0.70712595],\n",
       "       [-0.10259194,  0.50705648, -0.33082108,  0.2633976 , -1.20678467,\n",
       "         2.1323365 , -0.00727657,  0.46398742,  1.49675802,  0.54578021,\n",
       "        -0.46902444,  0.13687847, -1.1029802 , -1.63421924,  0.79559194,\n",
       "         1.22688262, -0.15559352,  0.37575526, -0.78449658, -0.21091111]])"
      ]
     },
     "execution_count": 14,
     "metadata": {},
     "output_type": "execute_result"
    }
   ],
   "source": [
    "data_random"
   ]
  },
  {
   "cell_type": "code",
   "execution_count": 16,
   "metadata": {},
   "outputs": [],
   "source": [
    "data_G=np.array(np.random.randn(1500))"
   ]
  },
  {
   "cell_type": "code",
   "execution_count": 18,
   "metadata": {},
   "outputs": [],
   "source": [
    "win=data_G[data_G<0.5]"
   ]
  },
  {
   "cell_type": "code",
   "execution_count": 27,
   "metadata": {},
   "outputs": [
    {
     "name": "stdout",
     "output_type": "stream",
     "text": [
      "1028\n"
     ]
    }
   ],
   "source": [
    "print(len(win))"
   ]
  },
  {
   "cell_type": "code",
   "execution_count": 29,
   "metadata": {},
   "outputs": [
    {
     "data": {
      "text/plain": [
       "[<matplotlib.lines.Line2D at 0x7f98e48102d0>]"
      ]
     },
     "execution_count": 29,
     "metadata": {},
     "output_type": "execute_result"
    },
    {
     "data": {
      "image/png": "[encoded data removed]",
      "text/plain": [
       "<Figure size 432x288 with 1 Axes>"
      ]
     },
     "metadata": {
      "needs_background": "light"
     },
     "output_type": "display_data"
    }
   ],
   "source": [
    "plt.plot(win)"
   ]
  },
  {
   "cell_type": "code",
   "execution_count": 31,
   "metadata": {},
   "outputs": [],
   "source": [
    "import pymysql"
   ]
  },
  {
   "cell_type": "code",
   "execution_count": 34,
   "metadata": {},
   "outputs": [],
   "source": [
    "bridge=pymysql.connect(\n",
    "    host='49.234.212.229',\n",
    "    user='root',\n",
    "    password='Dpc18767117934!',\n",
    "    database='JianShu',\n",
    "    port=3306,\n",
    "    charset='utf8'\n",
    "\n",
    ")"
   ]
  },
  {
   "cell_type": "code",
   "execution_count": 38,
   "metadata": {},
   "outputs": [],
   "source": [
    "data=pd.read_sql('''\n",
    "select * from JianShuArticle\n",
    "\n",
    "''',con=bridge)"
   ]
  },
  {
   "cell_type": "code",
   "execution_count": 40,
   "metadata": {},
   "outputs": [
    {
     "data": {
      "text/plain": [
       "Index(['id', 'title', 'author', 'content', 'article_id', 'article_url',\n",
       "       'letter_count', 'read_count', 'pub_time', 'category'],\n",
       "      dtype='object')"
      ]
     },
     "execution_count": 40,
     "metadata": {},
     "output_type": "execute_result"
    }
   ],
   "source": [
    "data.columns"
   ]
  },
  {
   "cell_type": "code",
   "execution_count": 43,
   "metadata": {},
   "outputs": [
    {
     "data": {
      "text/html": [
       "<div>\n",
       "<style scoped>\n",
       "    .dataframe tbody tr th:only-of-type {\n",
       "        vertical-align: middle;\n",
       "    }\n",
       "\n",
       "    .dataframe tbody tr th {\n",
       "        vertical-align: top;\n",
       "    }\n",
       "\n",
       "    .dataframe thead th {\n",
       "        text-align: right;\n",
       "    }\n",
       "</style>\n",
       "<table border=\"1\" class=\"dataframe\">\n",
       "  <thead>\n",
       "    <tr style=\"text-align: right;\">\n",
       "      <th></th>\n",
       "      <th>title</th>\n",
       "      <th>author</th>\n",
       "      <th>content</th>\n",
       "      <th>article_id</th>\n",
       "      <th>article_url</th>\n",
       "      <th>category</th>\n",
       "    </tr>\n",
       "  </thead>\n",
       "  <tbody>\n",
       "    <tr>\n",
       "      <th>count</th>\n",
       "      <td>139</td>\n",
       "      <td>139</td>\n",
       "      <td>139</td>\n",
       "      <td>139</td>\n",
       "      <td>139</td>\n",
       "      <td>139</td>\n",
       "    </tr>\n",
       "    <tr>\n",
       "      <th>unique</th>\n",
       "      <td>137</td>\n",
       "      <td>103</td>\n",
       "      <td>137</td>\n",
       "      <td>137</td>\n",
       "      <td>137</td>\n",
       "      <td>114</td>\n",
       "    </tr>\n",
       "    <tr>\n",
       "      <th>top</th>\n",
       "      <td>《三十而已》大结局：没必要去心疼顾佳，其实一切因果早有伏笔</td>\n",
       "      <td>严博光自媒体</td>\n",
       "      <td>文/叶秋臣随着《三十而已》的完结，所有角色的结局也都已经尘埃落定。许幻山终究还是因为林有有的...</td>\n",
       "      <td>213559b5554c</td>\n",
       "      <td>https://www.jianshu.com/p/db486bc10fd1</td>\n",
       "      <td></td>\n",
       "    </tr>\n",
       "    <tr>\n",
       "      <th>freq</th>\n",
       "      <td>2</td>\n",
       "      <td>6</td>\n",
       "      <td>2</td>\n",
       "      <td>2</td>\n",
       "      <td>2</td>\n",
       "      <td>21</td>\n",
       "    </tr>\n",
       "  </tbody>\n",
       "</table>\n",
       "</div>"
      ],
      "text/plain": [
       "                                title  author  \\\n",
       "count                             139     139   \n",
       "unique                            137     103   \n",
       "top     《三十而已》大结局：没必要去心疼顾佳，其实一切因果早有伏笔  严博光自媒体   \n",
       "freq                                2       6   \n",
       "\n",
       "                                                  content    article_id  \\\n",
       "count                                                 139           139   \n",
       "unique                                                137           137   \n",
       "top     文/叶秋臣随着《三十而已》的完结，所有角色的结局也都已经尘埃落定。许幻山终究还是因为林有有的...  213559b5554c   \n",
       "freq                                                    2             2   \n",
       "\n",
       "                                   article_url category  \n",
       "count                                      139      139  \n",
       "unique                                     137      114  \n",
       "top     https://www.jianshu.com/p/db486bc10fd1           \n",
       "freq                                         2       21  "
      ]
     },
     "execution_count": 43,
     "metadata": {},
     "output_type": "execute_result"
    }
   ],
   "source": [
    "data.describe(include='object')"
   ]
  },
  {
   "cell_type": "code",
   "execution_count": 44,
   "metadata": {},
   "outputs": [
    {
     "ename": "TypeError",
     "evalue": "'tuple' object is not callable",
     "output_type": "error",
     "traceback": [
      "\u001b[0;31m---------------------------------------------------------------------------\u001b[0m",
      "\u001b[0;31mTypeError\u001b[0m                                 Traceback (most recent call last)",
      "\u001b[0;32m<ipython-input-44-3d8483998d6f>\u001b[0m in \u001b[0;36m<module>\u001b[0;34m\u001b[0m\n\u001b[0;32m----> 1\u001b[0;31m \u001b[0mdata\u001b[0m\u001b[0;34m.\u001b[0m\u001b[0mshape\u001b[0m\u001b[0;34m(\u001b[0m\u001b[0;34m)\u001b[0m\u001b[0;34m\u001b[0m\u001b[0;34m\u001b[0m\u001b[0m\n\u001b[0m",
      "\u001b[0;31mTypeError\u001b[0m: 'tuple' object is not callable"
     ]
    }
   ],
   "source": [
    "data.shape()"
   ]
  },
  {
   "cell_type": "code",
   "execution_count": 54,
   "metadata": {},
   "outputs": [],
   "source": [
    "data=np.array(np.random.randn(100).reshape(50,2))"
   ]
  },
  {
   "cell_type": "code",
   "execution_count": 55,
   "metadata": {},
   "outputs": [
    {
     "data": {
      "text/plain": [
       "array([[-0.89608314,  1.92762523],\n",
       "       [-1.85052134,  0.79643773],\n",
       "       [ 0.90908684,  0.33856984],\n",
       "       [ 1.24068377, -1.84683959],\n",
       "       [ 0.28245392, -0.18683838],\n",
       "       [ 1.24618096, -0.08749413],\n",
       "       [ 0.19765099,  1.45412185],\n",
       "       [-1.2287343 ,  0.51343515],\n",
       "       [ 1.62983501,  1.30678368],\n",
       "       [-0.2202549 ,  0.6356679 ],\n",
       "       [-1.13746853, -0.59886453],\n",
       "       [ 0.12796712,  1.3528473 ],\n",
       "       [-0.12218626, -1.1596978 ],\n",
       "       [ 0.14701589, -1.04474149],\n",
       "       [-0.07136476,  1.29661734],\n",
       "       [ 1.12731668, -0.16229351],\n",
       "       [-0.89776142,  0.68058137],\n",
       "       [ 0.2891978 ,  0.90635749],\n",
       "       [ 1.31791278,  2.86723266],\n",
       "       [-0.54509116, -1.10190968],\n",
       "       [-0.49010149,  0.89437549],\n",
       "       [-0.22396658, -1.46035318],\n",
       "       [ 2.09504364, -1.02843642],\n",
       "       [ 1.84255918,  0.74456668],\n",
       "       [ 0.14658831,  0.8535444 ],\n",
       "       [ 1.35259583, -0.41132232],\n",
       "       [-1.87728561, -0.04167044],\n",
       "       [-0.07690142, -0.10061273],\n",
       "       [ 0.63107037,  0.37085598],\n",
       "       [-0.75377617,  0.63448561],\n",
       "       [ 0.14698153, -0.24502161],\n",
       "       [ 2.69397331,  0.26715296],\n",
       "       [ 0.20462069,  1.76043993],\n",
       "       [ 0.69167717,  0.38116661],\n",
       "       [-0.04575277,  0.38467772],\n",
       "       [-1.43033734, -0.84258919],\n",
       "       [ 0.32288778, -1.02444607],\n",
       "       [-0.18071611,  1.28534751],\n",
       "       [ 1.62054937, -0.28849669],\n",
       "       [-0.4378112 ,  0.30172122],\n",
       "       [-0.95134532, -1.02590538],\n",
       "       [-0.20464811,  1.03729672],\n",
       "       [-0.67208197, -0.19312428],\n",
       "       [ 0.18118906,  1.72325488],\n",
       "       [-0.74775908,  1.34256767],\n",
       "       [ 0.26923279,  0.03793918],\n",
       "       [ 0.01117936, -0.27248114],\n",
       "       [-0.9739904 , -1.60610713],\n",
       "       [ 2.17291834, -0.6560188 ],\n",
       "       [ 0.00504449, -1.34674447]])"
      ]
     },
     "execution_count": 55,
     "metadata": {},
     "output_type": "execute_result"
    }
   ],
   "source": [
    "data"
   ]
  },
  {
   "cell_type": "code",
   "execution_count": 56,
   "metadata": {},
   "outputs": [
    {
     "data": {
      "text/plain": [
       "{'whiskers': [<matplotlib.lines.Line2D at 0x7f98cb80bb50>,\n",
       "  <matplotlib.lines.Line2D at 0x7f98cb571f10>,\n",
       "  <matplotlib.lines.Line2D at 0x7f98cb81dbd0>,\n",
       "  <matplotlib.lines.Line2D at 0x7f98cb83db90>],\n",
       " 'caps': [<matplotlib.lines.Line2D at 0x7f98cb81d650>,\n",
       "  <matplotlib.lines.Line2D at 0x7f98cb81db50>,\n",
       "  <matplotlib.lines.Line2D at 0x7f98cb986a10>,\n",
       "  <matplotlib.lines.Line2D at 0x7f98cb986f10>],\n",
       " 'boxes': [<matplotlib.lines.Line2D at 0x7f98cb571ed0>,\n",
       "  <matplotlib.lines.Line2D at 0x7f98cb83db10>],\n",
       " 'medians': [<matplotlib.lines.Line2D at 0x7f98cb80bc10>,\n",
       "  <matplotlib.lines.Line2D at 0x7f98cb83d090>],\n",
       " 'fliers': [<matplotlib.lines.Line2D at 0x7f98cb83d5d0>,\n",
       "  <matplotlib.lines.Line2D at 0x7f98cb9b4950>],\n",
       " 'means': []}"
      ]
     },
     "execution_count": 56,
     "metadata": {},
     "output_type": "execute_result"
    },
    {
     "data": {
      "image/png": "[encoded data removed]",
      "text/plain": [
       "<Figure size 432x288 with 1 Axes>"
      ]
     },
     "metadata": {
      "needs_background": "light"
     },
     "output_type": "display_data"
    }
   ],
   "source": [
    "plt.boxplot(data)"
   ]
  },
  {
   "cell_type": "code",
   "execution_count": 58,
   "metadata": {},
   "outputs": [],
   "source": [
    "df1=pd.DataFrame({'name':['张三','李四','王五'],'age':[21,25,22],'gender':['男','女','男']})\n",
    "df2=pd.DataFrame({'name':['丁六','赵七'],'age':[33,29],'gender':['女','男']})"
   ]
  },
  {
   "cell_type": "code",
   "execution_count": 79,
   "metadata": {},
   "outputs": [
    {
     "data": {
      "text/html": [
       "<div>\n",
       "<style scoped>\n",
       "    .dataframe tbody tr th:only-of-type {\n",
       "        vertical-align: middle;\n",
       "    }\n",
       "\n",
       "    .dataframe tbody tr th {\n",
       "        vertical-align: top;\n",
       "    }\n",
       "\n",
       "    .dataframe thead th {\n",
       "        text-align: right;\n",
       "    }\n",
       "</style>\n",
       "<table border=\"1\" class=\"dataframe\">\n",
       "  <thead>\n",
       "    <tr style=\"text-align: right;\">\n",
       "      <th></th>\n",
       "      <th>Class</th>\n",
       "      <th>name</th>\n",
       "      <th>age</th>\n",
       "      <th>gender</th>\n",
       "    </tr>\n",
       "  </thead>\n",
       "  <tbody>\n",
       "    <tr>\n",
       "      <th>0</th>\n",
       "      <td>df1</td>\n",
       "      <td>张三</td>\n",
       "      <td>21</td>\n",
       "      <td>男</td>\n",
       "    </tr>\n",
       "    <tr>\n",
       "      <th>1</th>\n",
       "      <td>df1</td>\n",
       "      <td>李四</td>\n",
       "      <td>25</td>\n",
       "      <td>女</td>\n",
       "    </tr>\n",
       "    <tr>\n",
       "      <th>2</th>\n",
       "      <td>df1</td>\n",
       "      <td>王五</td>\n",
       "      <td>22</td>\n",
       "      <td>男</td>\n",
       "    </tr>\n",
       "    <tr>\n",
       "      <th>3</th>\n",
       "      <td>df2</td>\n",
       "      <td>丁六</td>\n",
       "      <td>33</td>\n",
       "      <td>女</td>\n",
       "    </tr>\n",
       "    <tr>\n",
       "      <th>4</th>\n",
       "      <td>df2</td>\n",
       "      <td>赵七</td>\n",
       "      <td>29</td>\n",
       "      <td>男</td>\n",
       "    </tr>\n",
       "  </tbody>\n",
       "</table>\n",
       "</div>"
      ],
      "text/plain": [
       "  Class name  age gender\n",
       "0   df1   张三   21      男\n",
       "1   df1   李四   25      女\n",
       "2   df1   王五   22      男\n",
       "3   df2   丁六   33      女\n",
       "4   df2   赵七   29      男"
      ]
     },
     "execution_count": 79,
     "metadata": {},
     "output_type": "execute_result"
    }
   ],
   "source": [
    "pd.concat([df1,df2],keys=['df1','df2']).reset_index().drop(labels='level_1',axis=1).rename({'level_0':'Class'},axis=1)"
   ]
  },
  {
   "cell_type": "code",
   "execution_count": 80,
   "metadata": {},
   "outputs": [
    {
     "data": {
      "text/html": [
       "<div>\n",
       "<style scoped>\n",
       "    .dataframe tbody tr th:only-of-type {\n",
       "        vertical-align: middle;\n",
       "    }\n",
       "\n",
       "    .dataframe tbody tr th {\n",
       "        vertical-align: top;\n",
       "    }\n",
       "\n",
       "    .dataframe thead th {\n",
       "        text-align: right;\n",
       "    }\n",
       "</style>\n",
       "<table border=\"1\" class=\"dataframe\">\n",
       "  <thead>\n",
       "    <tr style=\"text-align: right;\">\n",
       "      <th></th>\n",
       "      <th>name</th>\n",
       "      <th>age</th>\n",
       "      <th>gender</th>\n",
       "      <th>name</th>\n",
       "      <th>age</th>\n",
       "      <th>gender</th>\n",
       "    </tr>\n",
       "  </thead>\n",
       "  <tbody>\n",
       "    <tr>\n",
       "      <th>0</th>\n",
       "      <td>张三</td>\n",
       "      <td>21</td>\n",
       "      <td>男</td>\n",
       "      <td>丁六</td>\n",
       "      <td>33.0</td>\n",
       "      <td>女</td>\n",
       "    </tr>\n",
       "    <tr>\n",
       "      <th>1</th>\n",
       "      <td>李四</td>\n",
       "      <td>25</td>\n",
       "      <td>女</td>\n",
       "      <td>赵七</td>\n",
       "      <td>29.0</td>\n",
       "      <td>男</td>\n",
       "    </tr>\n",
       "    <tr>\n",
       "      <th>2</th>\n",
       "      <td>王五</td>\n",
       "      <td>22</td>\n",
       "      <td>男</td>\n",
       "      <td>NaN</td>\n",
       "      <td>NaN</td>\n",
       "      <td>NaN</td>\n",
       "    </tr>\n",
       "  </tbody>\n",
       "</table>\n",
       "</div>"
      ],
      "text/plain": [
       "  name  age gender name   age gender\n",
       "0   张三   21      男   丁六  33.0      女\n",
       "1   李四   25      女   赵七  29.0      男\n",
       "2   王五   22      男  NaN   NaN    NaN"
      ]
     },
     "execution_count": 80,
     "metadata": {},
     "output_type": "execute_result"
    }
   ],
   "source": [
    "pd.concat([df1,df2],axis=1)"
   ]
  },
  {
   "cell_type": "code",
   "execution_count": 81,
   "metadata": {},
   "outputs": [],
   "source": [
    "plt.boxplot?\n"
   ]
  },
  {
   "cell_type": "code",
   "execution_count": 4,
   "metadata": {},
   "outputs": [],
   "source": [
    "import pandas as pd\n",
    "import numpy as np\n",
    "s1=pd.Series(np.random.rand(4),index=['Tom','Jerry','Marry','Alice'])\n",
    "s2=pd.Series(np.random.rand(3),index=['Wang','Jack','Marry'])\n"
   ]
  },
  {
   "cell_type": "code",
   "execution_count": 5,
   "metadata": {},
   "outputs": [
    {
     "data": {
      "text/plain": [
       "Tom      0.566378\n",
       "Jerry    0.335719\n",
       "Marry    0.600930\n",
       "Alice    0.804471\n",
       "dtype: float64"
      ]
     },
     "execution_count": 5,
     "metadata": {},
     "output_type": "execute_result"
    }
   ],
   "source": [
    "s1"
   ]
  },
  {
   "cell_type": "code",
   "execution_count": 9,
   "metadata": {},
   "outputs": [
    {
     "data": {
      "text/plain": [
       "Wang     0.971308\n",
       "Jack     0.032840\n",
       "Marry    0.365609\n",
       "dtype: float64"
      ]
     },
     "execution_count": 9,
     "metadata": {},
     "output_type": "execute_result"
    }
   ],
   "source": [
    "s2"
   ]
  },
  {
   "cell_type": "code",
   "execution_count": 22,
   "metadata": {},
   "outputs": [
    {
     "data": {
      "text/plain": [
       "s1  Tom      0.566378\n",
       "    Jerry    0.335719\n",
       "    Marry    0.600930\n",
       "    Alice    0.804471\n",
       "s2  Wang     0.971308\n",
       "    Jack     0.032840\n",
       "    Marry    0.365609\n",
       "dtype: float64"
      ]
     },
     "execution_count": 22,
     "metadata": {},
     "output_type": "execute_result"
    }
   ],
   "source": [
    "pd.concat([s1,s2],keys=['s1','s2'])"
   ]
  },
  {
   "cell_type": "code",
   "execution_count": null,
   "metadata": {},
   "outputs": [],
   "source": []
  }
 ],
 "metadata": {
  "kernelspec": {
   "display_name": "Python 3",
   "language": "python",
   "name": "python3"
  },
  "language_info": {
   "codemirror_mode": {
    "name": "ipython",
    "version": 3
   },
   "file_extension": ".py",
   "mimetype": "text/x-python",
   "name": "python",
   "nbconvert_exporter": "python",
   "pygments_lexer": "ipython3",
   "version": "3.7.6"
  }
 },
 "nbformat": 4,
 "nbformat_minor": 4
}
