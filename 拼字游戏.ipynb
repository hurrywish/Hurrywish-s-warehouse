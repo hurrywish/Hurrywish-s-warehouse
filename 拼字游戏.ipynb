{
 "cells": [
  {
   "cell_type": "code",
   "execution_count": 33,
   "metadata": {},
   "outputs": [],
   "source": [
    "import numpy as np\n",
    "import pandas as pd\n",
    "from matplotlib import pyplot as plt\n",
    "from functools import reduce\n",
    "%matplotlib inline"
   ]
  },
  {
   "cell_type": "code",
   "execution_count": 12,
   "metadata": {},
   "outputs": [],
   "source": [
    "str1=np.array(['我','你','他','她','我们','你们','他们','她们'])\n",
    "str2=np.array(['吃','喝','学','用','看','听','说','写'])\n",
    "str3=np.array(['苹果','香蕉','梨','西瓜','芒果','荔枝','葡萄','柚子'])"
   ]
  },
  {
   "cell_type": "code",
   "execution_count": 27,
   "metadata": {},
   "outputs": [
    {
     "name": "stdout",
     "output_type": "stream",
     "text": [
      "[['我' '吃' '苹果']\n",
      " ['你' '喝' '香蕉']\n",
      " ['他' '学' '梨']\n",
      " ['她' '用' '西瓜']\n",
      " ['我们' '看' '芒果']\n",
      " ['你们' '听' '荔枝']\n",
      " ['他们' '说' '葡萄']\n",
      " ['她们' '写' '柚子']]\n",
      "[['她们' '写' '柚子']\n",
      " ['我' '吃' '苹果']\n",
      " ['你们' '听' '荔枝']\n",
      " ['她' '用' '西瓜']\n",
      " ['我们' '看' '芒果']\n",
      " ['他们' '说' '葡萄']\n",
      " ['你' '喝' '香蕉']\n",
      " ['他' '学' '梨']]\n"
     ]
    }
   ],
   "source": [
    "str_total=np.column_stack([str1,str2,str3])\n",
    "str_total_1=str_total.copy()\n",
    "np.random.shuffle(str_total_1)\n",
    "print(str_total)\n",
    "print(str_total_1)"
   ]
  },
  {
   "cell_type": "code",
   "execution_count": 28,
   "metadata": {},
   "outputs": [
    {
     "data": {
      "text/plain": [
       "array([[False,  True,  True],\n",
       "       [False, False, False],\n",
       "       [False, False,  True],\n",
       "       [ True, False,  True],\n",
       "       [False, False, False],\n",
       "       [ True,  True,  True],\n",
       "       [ True, False,  True],\n",
       "       [False,  True, False]])"
      ]
     },
     "execution_count": 28,
     "metadata": {},
     "output_type": "execute_result"
    }
   ],
   "source": [
    "True_False=np.array([[True if np.random.rand(1)>0.5  else False for m in range(3)] for n in range (8)])\n",
    "True_False"
   ]
  },
  {
   "cell_type": "code",
   "execution_count": 30,
   "metadata": {},
   "outputs": [
    {
     "data": {
      "text/plain": [
       "array([['她们', '吃', '苹果'],\n",
       "       ['我', '吃', '苹果'],\n",
       "       ['你们', '听', '梨'],\n",
       "       ['她', '用', '西瓜'],\n",
       "       ['我们', '看', '芒果'],\n",
       "       ['你们', '听', '荔枝'],\n",
       "       ['他们', '喝', '葡萄'],\n",
       "       ['他', '写', '梨']], dtype='<U2')"
      ]
     },
     "execution_count": 30,
     "metadata": {},
     "output_type": "execute_result"
    }
   ],
   "source": [
    "result=np.where(True_False,str_total,str_total_1)\n",
    "result"
   ]
  },
  {
   "cell_type": "code",
   "execution_count": 34,
   "metadata": {},
   "outputs": [],
   "source": [
    "def shuffle_words(number):\n",
    "    str1=np.array(['我','你','他','她','我们','你们','他们','她们'])\n",
    "    str2=np.array(['吃','喝','学','用','看','听','说','写'])\n",
    "    str3=np.array(['苹果','香蕉','梨','西瓜','芒果','荔枝','葡萄','柚子'])\n",
    "    True_False=np.array([[True if np.random.rand(1)>0.5  else False for m in range(3)] for n in range (8)])\n",
    "    result=np.where(True_False,str_total,str_total_1)\n",
    "    return reduce(lambda x,y:x+y,result[number-1])"
   ]
  },
  {
   "cell_type": "code",
   "execution_count": 35,
   "metadata": {},
   "outputs": [
    {
     "data": {
      "text/plain": [
       "'他们听葡萄'"
      ]
     },
     "execution_count": 35,
     "metadata": {},
     "output_type": "execute_result"
    }
   ],
   "source": [
    "shuffle_words(6)"
   ]
  }
 ],
 "metadata": {
  "kernelspec": {
   "display_name": "Python 3",
   "language": "python",
   "name": "python3"
  },
  "language_info": {
   "codemirror_mode": {
    "name": "ipython",
    "version": 3
   },
   "file_extension": ".py",
   "mimetype": "text/x-python",
   "name": "python",
   "nbconvert_exporter": "python",
   "pygments_lexer": "ipython3",
   "version": "3.7.6"
  }
 },
 "nbformat": 4,
 "nbformat_minor": 4
}
