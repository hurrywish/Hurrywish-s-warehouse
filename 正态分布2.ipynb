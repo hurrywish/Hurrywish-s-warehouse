{
 "cells": [
  {
   "cell_type": "code",
   "execution_count": 12,
   "metadata": {},
   "outputs": [],
   "source": [
    "import sys\n",
    "import numpy as np\n",
    "import pandas as pd\n",
    "import matplotlib.pyplot as plt\n",
    "import sympy\n",
    "from math import exp\n",
    "%matplotlib inline"
   ]
  },
  {
   "cell_type": "code",
   "execution_count": 181,
   "metadata": {},
   "outputs": [
    {
     "data": {
      "text/html": [
       "<div>\n",
       "<style scoped>\n",
       "    .dataframe tbody tr th:only-of-type {\n",
       "        vertical-align: middle;\n",
       "    }\n",
       "\n",
       "    .dataframe tbody tr th {\n",
       "        vertical-align: top;\n",
       "    }\n",
       "\n",
       "    .dataframe thead th {\n",
       "        text-align: right;\n",
       "    }\n",
       "</style>\n",
       "<table border=\"1\" class=\"dataframe\">\n",
       "  <thead>\n",
       "    <tr style=\"text-align: right;\">\n",
       "      <th></th>\n",
       "      <th>value</th>\n",
       "    </tr>\n",
       "  </thead>\n",
       "  <tbody>\n",
       "    <tr>\n",
       "      <th>0</th>\n",
       "      <td>74</td>\n",
       "    </tr>\n",
       "    <tr>\n",
       "      <th>1</th>\n",
       "      <td>76</td>\n",
       "    </tr>\n",
       "    <tr>\n",
       "      <th>2</th>\n",
       "      <td>83</td>\n",
       "    </tr>\n",
       "    <tr>\n",
       "      <th>3</th>\n",
       "      <td>81</td>\n",
       "    </tr>\n",
       "    <tr>\n",
       "      <th>4</th>\n",
       "      <td>86</td>\n",
       "    </tr>\n",
       "    <tr>\n",
       "      <th>5</th>\n",
       "      <td>81</td>\n",
       "    </tr>\n",
       "    <tr>\n",
       "      <th>6</th>\n",
       "      <td>72</td>\n",
       "    </tr>\n",
       "    <tr>\n",
       "      <th>7</th>\n",
       "      <td>88</td>\n",
       "    </tr>\n",
       "    <tr>\n",
       "      <th>8</th>\n",
       "      <td>74</td>\n",
       "    </tr>\n",
       "    <tr>\n",
       "      <th>9</th>\n",
       "      <td>88</td>\n",
       "    </tr>\n",
       "  </tbody>\n",
       "</table>\n",
       "</div>"
      ],
      "text/plain": [
       "   value\n",
       "0     74\n",
       "1     76\n",
       "2     83\n",
       "3     81\n",
       "4     86\n",
       "5     81\n",
       "6     72\n",
       "7     88\n",
       "8     74\n",
       "9     88"
      ]
     },
     "execution_count": 181,
     "metadata": {},
     "output_type": "execute_result"
    }
   ],
   "source": [
    "data=pd.DataFrame(np.random.randint(70,90,500),columns=['value'])\n",
    "data.head(10)"
   ]
  },
  {
   "cell_type": "code",
   "execution_count": 182,
   "metadata": {},
   "outputs": [
    {
     "data": {
      "text/plain": [
       "(78.958, 5.62105292627636)"
      ]
     },
     "execution_count": 182,
     "metadata": {},
     "output_type": "execute_result"
    }
   ],
   "source": [
    "data['value'].value_counts()\n",
    "mean=np.mean(data['value'])\n",
    "std=np.std(data['value'])\n",
    "mean,std"
   ]
  },
  {
   "cell_type": "code",
   "execution_count": 183,
   "metadata": {},
   "outputs": [
    {
     "data": {
      "text/plain": [
       "70    20\n",
       "71    28\n",
       "72    31\n",
       "73    29\n",
       "74    32\n",
       "75    30\n",
       "76    28\n",
       "77    22\n",
       "78    20\n",
       "79    28\n",
       "80    37\n",
       "81    18\n",
       "82    20\n",
       "83    25\n",
       "84    25\n",
       "85    24\n",
       "86    21\n",
       "87    25\n",
       "88    17\n",
       "89    20\n",
       "Name: value, dtype: int64"
      ]
     },
     "execution_count": 183,
     "metadata": {},
     "output_type": "execute_result"
    }
   ],
   "source": [
    "s=data['value'].value_counts().sort_index()\n",
    "s"
   ]
  },
  {
   "cell_type": "code",
   "execution_count": 184,
   "metadata": {},
   "outputs": [
    {
     "data": {
      "text/html": [
       "<div>\n",
       "<style scoped>\n",
       "    .dataframe tbody tr th:only-of-type {\n",
       "        vertical-align: middle;\n",
       "    }\n",
       "\n",
       "    .dataframe tbody tr th {\n",
       "        vertical-align: top;\n",
       "    }\n",
       "\n",
       "    .dataframe thead th {\n",
       "        text-align: right;\n",
       "    }\n",
       "</style>\n",
       "<table border=\"1\" class=\"dataframe\">\n",
       "  <thead>\n",
       "    <tr style=\"text-align: right;\">\n",
       "      <th></th>\n",
       "      <th>血糖</th>\n",
       "      <th>频数</th>\n",
       "    </tr>\n",
       "  </thead>\n",
       "  <tbody>\n",
       "    <tr>\n",
       "      <th>0</th>\n",
       "      <td>70</td>\n",
       "      <td>20</td>\n",
       "    </tr>\n",
       "    <tr>\n",
       "      <th>1</th>\n",
       "      <td>71</td>\n",
       "      <td>28</td>\n",
       "    </tr>\n",
       "    <tr>\n",
       "      <th>2</th>\n",
       "      <td>72</td>\n",
       "      <td>31</td>\n",
       "    </tr>\n",
       "    <tr>\n",
       "      <th>3</th>\n",
       "      <td>73</td>\n",
       "      <td>29</td>\n",
       "    </tr>\n",
       "    <tr>\n",
       "      <th>4</th>\n",
       "      <td>74</td>\n",
       "      <td>32</td>\n",
       "    </tr>\n",
       "    <tr>\n",
       "      <th>5</th>\n",
       "      <td>75</td>\n",
       "      <td>30</td>\n",
       "    </tr>\n",
       "    <tr>\n",
       "      <th>6</th>\n",
       "      <td>76</td>\n",
       "      <td>28</td>\n",
       "    </tr>\n",
       "    <tr>\n",
       "      <th>7</th>\n",
       "      <td>77</td>\n",
       "      <td>22</td>\n",
       "    </tr>\n",
       "    <tr>\n",
       "      <th>8</th>\n",
       "      <td>78</td>\n",
       "      <td>20</td>\n",
       "    </tr>\n",
       "    <tr>\n",
       "      <th>9</th>\n",
       "      <td>79</td>\n",
       "      <td>28</td>\n",
       "    </tr>\n",
       "    <tr>\n",
       "      <th>10</th>\n",
       "      <td>80</td>\n",
       "      <td>37</td>\n",
       "    </tr>\n",
       "    <tr>\n",
       "      <th>11</th>\n",
       "      <td>81</td>\n",
       "      <td>18</td>\n",
       "    </tr>\n",
       "    <tr>\n",
       "      <th>12</th>\n",
       "      <td>82</td>\n",
       "      <td>20</td>\n",
       "    </tr>\n",
       "    <tr>\n",
       "      <th>13</th>\n",
       "      <td>83</td>\n",
       "      <td>25</td>\n",
       "    </tr>\n",
       "    <tr>\n",
       "      <th>14</th>\n",
       "      <td>84</td>\n",
       "      <td>25</td>\n",
       "    </tr>\n",
       "    <tr>\n",
       "      <th>15</th>\n",
       "      <td>85</td>\n",
       "      <td>24</td>\n",
       "    </tr>\n",
       "    <tr>\n",
       "      <th>16</th>\n",
       "      <td>86</td>\n",
       "      <td>21</td>\n",
       "    </tr>\n",
       "    <tr>\n",
       "      <th>17</th>\n",
       "      <td>87</td>\n",
       "      <td>25</td>\n",
       "    </tr>\n",
       "    <tr>\n",
       "      <th>18</th>\n",
       "      <td>88</td>\n",
       "      <td>17</td>\n",
       "    </tr>\n",
       "    <tr>\n",
       "      <th>19</th>\n",
       "      <td>89</td>\n",
       "      <td>20</td>\n",
       "    </tr>\n",
       "  </tbody>\n",
       "</table>\n",
       "</div>"
      ],
      "text/plain": [
       "    血糖  频数\n",
       "0   70  20\n",
       "1   71  28\n",
       "2   72  31\n",
       "3   73  29\n",
       "4   74  32\n",
       "5   75  30\n",
       "6   76  28\n",
       "7   77  22\n",
       "8   78  20\n",
       "9   79  28\n",
       "10  80  37\n",
       "11  81  18\n",
       "12  82  20\n",
       "13  83  25\n",
       "14  84  25\n",
       "15  85  24\n",
       "16  86  21\n",
       "17  87  25\n",
       "18  88  17\n",
       "19  89  20"
      ]
     },
     "execution_count": 184,
     "metadata": {},
     "output_type": "execute_result"
    }
   ],
   "source": [
    "S=pd.DataFrame({'血糖':s.index,'频数':s.values})\n",
    "S"
   ]
  },
  {
   "cell_type": "code",
   "execution_count": 185,
   "metadata": {},
   "outputs": [],
   "source": [
    "sys.path.append('/Users/hurrywish/Downloads/Data_analysis_package/')\n",
    "from normal_distribution_integration import normal_distribution_integration"
   ]
  },
  {
   "cell_type": "code",
   "execution_count": 186,
   "metadata": {},
   "outputs": [
    {
     "data": {
      "text/plain": [
       "0.8413447460685435"
      ]
     },
     "execution_count": 186,
     "metadata": {},
     "output_type": "execute_result"
    }
   ],
   "source": [
    "normal_distribution_integration(1)"
   ]
  },
  {
   "cell_type": "code",
   "execution_count": 187,
   "metadata": {},
   "outputs": [],
   "source": [
    "S['累计频数']=S['频数'].cumsum()\n",
    "S['累计频率']=S['累计频数']/S['频数'].sum()\n",
    "S['标准化']=(S['血糖']-mean)/std\n",
    "S['校验值']=S['标准化'].apply(lambda x:normal_distribution_integration(x))"
   ]
  },
  {
   "cell_type": "code",
   "execution_count": 188,
   "metadata": {},
   "outputs": [
    {
     "data": {
      "text/plain": [
       "0.09932674940628924"
      ]
     },
     "execution_count": 188,
     "metadata": {},
     "output_type": "execute_result"
    }
   ],
   "source": [
    "d_max=abs(S['累计频率']-S['校验值']).max()\n",
    "d_max"
   ]
  },
  {
   "cell_type": "code",
   "execution_count": 189,
   "metadata": {},
   "outputs": [
    {
     "data": {
      "text/html": [
       "<div>\n",
       "<style scoped>\n",
       "    .dataframe tbody tr th:only-of-type {\n",
       "        vertical-align: middle;\n",
       "    }\n",
       "\n",
       "    .dataframe tbody tr th {\n",
       "        vertical-align: top;\n",
       "    }\n",
       "\n",
       "    .dataframe thead th {\n",
       "        text-align: right;\n",
       "    }\n",
       "</style>\n",
       "<table border=\"1\" class=\"dataframe\">\n",
       "  <thead>\n",
       "    <tr style=\"text-align: right;\">\n",
       "      <th></th>\n",
       "      <th>血糖</th>\n",
       "      <th>频数</th>\n",
       "      <th>累计频数</th>\n",
       "      <th>累计频率</th>\n",
       "      <th>标准化</th>\n",
       "      <th>校验值</th>\n",
       "    </tr>\n",
       "  </thead>\n",
       "  <tbody>\n",
       "    <tr>\n",
       "      <th>0</th>\n",
       "      <td>70</td>\n",
       "      <td>20</td>\n",
       "      <td>20</td>\n",
       "      <td>0.040</td>\n",
       "      <td>-1.593652</td>\n",
       "      <td>0.055507</td>\n",
       "    </tr>\n",
       "    <tr>\n",
       "      <th>1</th>\n",
       "      <td>71</td>\n",
       "      <td>28</td>\n",
       "      <td>48</td>\n",
       "      <td>0.096</td>\n",
       "      <td>-1.415749</td>\n",
       "      <td>0.078425</td>\n",
       "    </tr>\n",
       "    <tr>\n",
       "      <th>2</th>\n",
       "      <td>72</td>\n",
       "      <td>31</td>\n",
       "      <td>79</td>\n",
       "      <td>0.158</td>\n",
       "      <td>-1.237846</td>\n",
       "      <td>0.107887</td>\n",
       "    </tr>\n",
       "    <tr>\n",
       "      <th>3</th>\n",
       "      <td>73</td>\n",
       "      <td>29</td>\n",
       "      <td>108</td>\n",
       "      <td>0.216</td>\n",
       "      <td>-1.059944</td>\n",
       "      <td>0.144585</td>\n",
       "    </tr>\n",
       "    <tr>\n",
       "      <th>4</th>\n",
       "      <td>74</td>\n",
       "      <td>32</td>\n",
       "      <td>140</td>\n",
       "      <td>0.280</td>\n",
       "      <td>-0.882041</td>\n",
       "      <td>0.188877</td>\n",
       "    </tr>\n",
       "    <tr>\n",
       "      <th>5</th>\n",
       "      <td>75</td>\n",
       "      <td>30</td>\n",
       "      <td>170</td>\n",
       "      <td>0.340</td>\n",
       "      <td>-0.704139</td>\n",
       "      <td>0.240673</td>\n",
       "    </tr>\n",
       "    <tr>\n",
       "      <th>6</th>\n",
       "      <td>76</td>\n",
       "      <td>28</td>\n",
       "      <td>198</td>\n",
       "      <td>0.396</td>\n",
       "      <td>-0.526236</td>\n",
       "      <td>0.299362</td>\n",
       "    </tr>\n",
       "    <tr>\n",
       "      <th>7</th>\n",
       "      <td>77</td>\n",
       "      <td>22</td>\n",
       "      <td>220</td>\n",
       "      <td>0.440</td>\n",
       "      <td>-0.348333</td>\n",
       "      <td>0.363795</td>\n",
       "    </tr>\n",
       "    <tr>\n",
       "      <th>8</th>\n",
       "      <td>78</td>\n",
       "      <td>20</td>\n",
       "      <td>240</td>\n",
       "      <td>0.480</td>\n",
       "      <td>-0.170431</td>\n",
       "      <td>0.432336</td>\n",
       "    </tr>\n",
       "    <tr>\n",
       "      <th>9</th>\n",
       "      <td>79</td>\n",
       "      <td>28</td>\n",
       "      <td>268</td>\n",
       "      <td>0.536</td>\n",
       "      <td>0.007472</td>\n",
       "      <td>0.502981</td>\n",
       "    </tr>\n",
       "    <tr>\n",
       "      <th>10</th>\n",
       "      <td>80</td>\n",
       "      <td>37</td>\n",
       "      <td>305</td>\n",
       "      <td>0.610</td>\n",
       "      <td>0.185375</td>\n",
       "      <td>0.573532</td>\n",
       "    </tr>\n",
       "    <tr>\n",
       "      <th>11</th>\n",
       "      <td>81</td>\n",
       "      <td>18</td>\n",
       "      <td>323</td>\n",
       "      <td>0.646</td>\n",
       "      <td>0.363277</td>\n",
       "      <td>0.641801</td>\n",
       "    </tr>\n",
       "    <tr>\n",
       "      <th>12</th>\n",
       "      <td>82</td>\n",
       "      <td>20</td>\n",
       "      <td>343</td>\n",
       "      <td>0.686</td>\n",
       "      <td>0.541180</td>\n",
       "      <td>0.705808</td>\n",
       "    </tr>\n",
       "    <tr>\n",
       "      <th>13</th>\n",
       "      <td>83</td>\n",
       "      <td>25</td>\n",
       "      <td>368</td>\n",
       "      <td>0.736</td>\n",
       "      <td>0.719082</td>\n",
       "      <td>0.763955</td>\n",
       "    </tr>\n",
       "    <tr>\n",
       "      <th>14</th>\n",
       "      <td>84</td>\n",
       "      <td>25</td>\n",
       "      <td>393</td>\n",
       "      <td>0.786</td>\n",
       "      <td>0.896985</td>\n",
       "      <td>0.815137</td>\n",
       "    </tr>\n",
       "    <tr>\n",
       "      <th>15</th>\n",
       "      <td>85</td>\n",
       "      <td>24</td>\n",
       "      <td>417</td>\n",
       "      <td>0.834</td>\n",
       "      <td>1.074888</td>\n",
       "      <td>0.858787</td>\n",
       "    </tr>\n",
       "    <tr>\n",
       "      <th>16</th>\n",
       "      <td>86</td>\n",
       "      <td>21</td>\n",
       "      <td>438</td>\n",
       "      <td>0.876</td>\n",
       "      <td>1.252790</td>\n",
       "      <td>0.894859</td>\n",
       "    </tr>\n",
       "    <tr>\n",
       "      <th>17</th>\n",
       "      <td>87</td>\n",
       "      <td>25</td>\n",
       "      <td>463</td>\n",
       "      <td>0.926</td>\n",
       "      <td>1.430693</td>\n",
       "      <td>0.923741</td>\n",
       "    </tr>\n",
       "    <tr>\n",
       "      <th>18</th>\n",
       "      <td>88</td>\n",
       "      <td>17</td>\n",
       "      <td>480</td>\n",
       "      <td>0.960</td>\n",
       "      <td>1.608595</td>\n",
       "      <td>0.946148</td>\n",
       "    </tr>\n",
       "    <tr>\n",
       "      <th>19</th>\n",
       "      <td>89</td>\n",
       "      <td>20</td>\n",
       "      <td>500</td>\n",
       "      <td>1.000</td>\n",
       "      <td>1.786498</td>\n",
       "      <td>0.962991</td>\n",
       "    </tr>\n",
       "  </tbody>\n",
       "</table>\n",
       "</div>"
      ],
      "text/plain": [
       "    血糖  频数  累计频数   累计频率       标准化       校验值\n",
       "0   70  20    20  0.040 -1.593652  0.055507\n",
       "1   71  28    48  0.096 -1.415749  0.078425\n",
       "2   72  31    79  0.158 -1.237846  0.107887\n",
       "3   73  29   108  0.216 -1.059944  0.144585\n",
       "4   74  32   140  0.280 -0.882041  0.188877\n",
       "5   75  30   170  0.340 -0.704139  0.240673\n",
       "6   76  28   198  0.396 -0.526236  0.299362\n",
       "7   77  22   220  0.440 -0.348333  0.363795\n",
       "8   78  20   240  0.480 -0.170431  0.432336\n",
       "9   79  28   268  0.536  0.007472  0.502981\n",
       "10  80  37   305  0.610  0.185375  0.573532\n",
       "11  81  18   323  0.646  0.363277  0.641801\n",
       "12  82  20   343  0.686  0.541180  0.705808\n",
       "13  83  25   368  0.736  0.719082  0.763955\n",
       "14  84  25   393  0.786  0.896985  0.815137\n",
       "15  85  24   417  0.834  1.074888  0.858787\n",
       "16  86  21   438  0.876  1.252790  0.894859\n",
       "17  87  25   463  0.926  1.430693  0.923741\n",
       "18  88  17   480  0.960  1.608595  0.946148\n",
       "19  89  20   500  1.000  1.786498  0.962991"
      ]
     },
     "execution_count": 189,
     "metadata": {},
     "output_type": "execute_result"
    }
   ],
   "source": [
    "S"
   ]
  },
  {
   "cell_type": "code",
   "execution_count": 190,
   "metadata": {},
   "outputs": [
    {
     "data": {
      "text/plain": [
       "<matplotlib.axes._subplots.AxesSubplot at 0x7fe041f4f390>"
      ]
     },
     "execution_count": 190,
     "metadata": {},
     "output_type": "execute_result"
    },
    {
     "data": {
      "image/png": "[encoded data removed]",
      "text/plain": [
       "<Figure size 432x288 with 1 Axes>"
      ]
     },
     "metadata": {
      "needs_background": "light"
     },
     "output_type": "display_data"
    }
   ],
   "source": [
    "S['累计频率'].plot()\n",
    "S['校验值'].plot()"
   ]
  },
  {
   "cell_type": "code",
   "execution_count": 191,
   "metadata": {},
   "outputs": [
    {
     "data": {
      "text/plain": [
       "0.07289581606649313"
      ]
     },
     "execution_count": 191,
     "metadata": {},
     "output_type": "execute_result"
    }
   ],
   "source": [
    "1.63/np.sqrt(S['频数'].sum())"
   ]
  },
  {
   "cell_type": "code",
   "execution_count": 192,
   "metadata": {},
   "outputs": [
    {
     "data": {
      "text/plain": [
       "0.038907582808496335"
      ]
     },
     "execution_count": 192,
     "metadata": {},
     "output_type": "execute_result"
    }
   ],
   "source": [
    "0.87/np.sqrt(S['频数'].sum())"
   ]
  },
  {
   "cell_type": "code",
   "execution_count": 193,
   "metadata": {},
   "outputs": [],
   "source": [
    "from scipy import stats"
   ]
  },
  {
   "cell_type": "code",
   "execution_count": 194,
   "metadata": {},
   "outputs": [
    {
     "data": {
      "text/plain": [
       "KstestResult(statistic=0.09932674940628933, pvalue=9.549843873180558e-05)"
      ]
     },
     "execution_count": 194,
     "metadata": {},
     "output_type": "execute_result"
    }
   ],
   "source": [
    "stats.kstest(data['value'],'norm',(mean,std))"
   ]
  },
  {
   "cell_type": "code",
   "execution_count": null,
   "metadata": {},
   "outputs": [],
   "source": []
  },
  {
   "cell_type": "code",
   "execution_count": null,
   "metadata": {},
   "outputs": [],
   "source": []
  }
 ],
 "metadata": {
  "kernelspec": {
   "display_name": "Python 3",
   "language": "python",
   "name": "python3"
  },
  "language_info": {
   "codemirror_mode": {
    "name": "ipython",
    "version": 3
   },
   "file_extension": ".py",
   "mimetype": "text/x-python",
   "name": "python",
   "nbconvert_exporter": "python",
   "pygments_lexer": "ipython3",
   "version": "3.7.6"
  }
 },
 "nbformat": 4,
 "nbformat_minor": 4
}
